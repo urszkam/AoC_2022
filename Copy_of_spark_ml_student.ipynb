{
  "cells": [
    {
      "cell_type": "markdown",
      "metadata": {
        "id": "view-in-github",
        "colab_type": "text"
      },
      "source": [
        "<a href=\"https://colab.research.google.com/github/urszkam/AoC_2022/blob/main/Copy_of_spark_ml_student.ipynb\" target=\"_parent\"><img src=\"https://colab.research.google.com/assets/colab-badge.svg\" alt=\"Open In Colab\"/></a>"
      ]
    },
    {
      "cell_type": "markdown",
      "metadata": {
        "id": "aFueZf5p9OTo"
      },
      "source": [
        "# Zadanie: Budowa modelu regresji liniowej liniowej\n"
      ]
    },
    {
      "cell_type": "markdown",
      "metadata": {
        "id": "uMeC6UNnAySc"
      },
      "source": [
        "\n",
        "- **Identyfikacja:**\n",
        "  - `ID`: Unikalny identyfikator wypadku.\n",
        "  - `Source`: Źródło danych (np. raporty policyjne, systemy monitoringu).\n",
        "\n",
        "- **Czas:**\n",
        "  - `Start_Time`, `End_Time`: Czas rozpoczęcia i zakończenia wypadku.\n",
        "\n",
        "- **Lokalizacja:**\n",
        "  - `Start_Lat`, `Start_Lng`, `End_Lat`, `End_Lng`: Współrzędne geograficzne miejsca wypadku.\n",
        "  - `Distance(mi)`: Dystans, jaki obejmuje wypadek.\n",
        "  - `City`, `State`, `Zipcode`, `Country`: Informacje o lokalizacji administracyjnej.\n",
        "  - `Street`: Ulica, na której doszło do wypadku.\n",
        "\n",
        "- **Pogoda:**\n",
        "  - `Weather_Condition`: Warunki pogodowe (np. \"Rain\", \"Clear\").\n",
        "  - `Temperature(F)`, `Humidity(%)`, `Visibility(mi)`: Kluczowe dane atmosferyczne.\n",
        "  - `Wind_Speed(mph)`, `Wind_Direction`: Prędkość i kierunek wiatru.\n",
        "  - `Precipitation(in)`: Opady deszczu lub śniegu.\n",
        "\n",
        "- **Infrastruktura:**\n",
        "  - `Amenity`, `Bump`, `Crossing`, `Traffic_Signal`: Informacje o obiektach i elementach drogowych w pobliżu wypadku (np. ronda, progi zwalniające, skrzyżowania).\n",
        "  - `Junction`, `No_Exit`, `Railway`: Lokalizacje związane z infrastrukturą drogową.\n",
        "\n",
        "- **Oświetlenie:**\n",
        "  - `Sunrise_Sunset`: Pora dnia w chwili wypadku (np. \"Day\" lub \"Night\").\n",
        "  - `Civil_Twilight`, `Nautical_Twilight`, `Astronomical_Twilight`: Różne fazy zmierzchu i świtu.\n",
        "\n",
        "- **Opis i szczegóły:**\n",
        "  - `Description`: Tekstowy opis wypadku.\n",
        "  - `Severity`: Skala powagi wypadku (np. od 1 do 5).\n",
        "  - `Airport_Code`: Kod lotniska najbliższego miejsca wypadku.\n",
        "\n",
        "---\n"
      ]
    },
    {
      "cell_type": "markdown",
      "metadata": {
        "id": "7XL0UhqQ9fKX"
      },
      "source": [
        "Twoim zadaniem jest:\n",
        "\n",
        "1. Wczytanie danych o wypadkach drogowych w USA z pliku CSV do Apache Spark.\n",
        "2. Analiza struktury danych i wybór odpowiednich cech.\n",
        "3. Budowa modelu regresji liniowej w celu przewidywania powagi wypadków (Severity).\n",
        "4. Ocena jakości modelu.\n",
        "\n",
        "#### Opis zadania:\n",
        "\n",
        "Wczytaj dane:\n",
        "\n",
        "1. Użyj dostarczonego kodu, aby wczytać plik CSV o nazwie ```US_Accidents_March23.csv``` do Apache Spark jako DataFrame.\n",
        "2. Wyświetl schemat danych (printSchema) i pierwsze wiersze tabeli (show()), aby zapoznać się z zawartością.\n",
        "3. Przygotowanie danych:\n",
        "\n",
        "Wybierz następujące cechy (features):\n",
        "* Temperature(F)\n",
        "* Humidity(%)\n",
        "* Visibility(mi)\n",
        "* Wind_Speed(mph)\n",
        "* Precipitation(in)\n",
        "* Distance(mi)\n",
        "Usuń wiersze z brakującymi wartościami w wybranych kolumnach.\n",
        "\n",
        "#### Budowa modelu:\n",
        "\n",
        "1. Użyj VectorAssembler, aby połączyć wybrane cechy w jedną kolumnę features.\n",
        "2. Stwórz model regresji liniowej (LinearRegression), gdzie:\n",
        "3. Kolumna features będzie wejściem.\n",
        "4. Kolumna Severity będzie celem (target).\n",
        "\n",
        "####Podział danych:\n",
        "\n",
        "1. Podziel dane na zbiór treningowy (80%) i testowy (20%).\n",
        "2. Trening i predykcja:\n",
        "3. Wytrenuj model na zbiorze treningowym.\n",
        "4. Wykonaj predykcje na zbiorze testowym.\n",
        "\n",
        "#### Ewaluacja modelu:\n",
        "\n",
        "1. Oblicz i wyświetl metrykę RMSE (Root Mean Squared Error).\n",
        "2. Wyświetl współczynniki regresji oraz wyraz wolny (intercept).\n",
        "3. Pytania do odpowiedzi:\n",
        "4. Jakie są współczynniki regresji dla wybranych cech?\n",
        "5. Jakie jest RMSE dla modelu? Czy wynik jest satysfakcjonujący?\n",
        "6. Jakie kroki można podjąć, aby poprawić jakość modelu?\n"
      ]
    },
    {
      "cell_type": "code",
      "execution_count": 4,
      "metadata": {
        "colab": {
          "base_uri": "https://localhost:8080/"
        },
        "id": "R_nrRbn59OxQ",
        "outputId": "af283a55-8245-4ffe-9b3f-2e9cc320ca6c"
      },
      "outputs": [
        {
          "output_type": "stream",
          "name": "stdout",
          "text": [
            "Using Colab cache for faster access to the 'us-accidents' dataset.\n",
            "/kaggle/input/us-accidents\n"
          ]
        }
      ],
      "source": [
        "import kagglehub\n",
        "\n",
        "path = kagglehub.dataset_download(\"sobhanmoosavi/us-accidents\")\n",
        "print(path)"
      ]
    },
    {
      "cell_type": "code",
      "execution_count": null,
      "metadata": {
        "id": "XSsz8eu69T56"
      },
      "outputs": [],
      "source": [
        "!cp -R /root/.cache/kagglehub/datasets/sobhanmoosavi/us-accidents/versions/13/US_Accidents_March23.csv /content/sample_data/US_Accidents_March23.csv\n"
      ]
    },
    {
      "cell_type": "code",
      "execution_count": 5,
      "metadata": {
        "colab": {
          "base_uri": "https://localhost:8080/"
        },
        "id": "lPWY-ds69UPd",
        "outputId": "6c81012e-366f-4239-9f4d-d5486d2dbfa2"
      },
      "outputs": [
        {
          "output_type": "stream",
          "name": "stdout",
          "text": [
            "root\n",
            " |-- ID: string (nullable = true)\n",
            " |-- Source: string (nullable = true)\n",
            " |-- Severity: integer (nullable = true)\n",
            " |-- Start_Time: timestamp (nullable = true)\n",
            " |-- End_Time: timestamp (nullable = true)\n",
            " |-- Start_Lat: double (nullable = true)\n",
            " |-- Start_Lng: double (nullable = true)\n",
            " |-- End_Lat: double (nullable = true)\n",
            " |-- End_Lng: double (nullable = true)\n",
            " |-- Distance(mi): double (nullable = true)\n",
            " |-- Description: string (nullable = true)\n",
            " |-- Street: string (nullable = true)\n",
            " |-- City: string (nullable = true)\n",
            " |-- County: string (nullable = true)\n",
            " |-- State: string (nullable = true)\n",
            " |-- Zipcode: string (nullable = true)\n",
            " |-- Country: string (nullable = true)\n",
            " |-- Timezone: string (nullable = true)\n",
            " |-- Airport_Code: string (nullable = true)\n",
            " |-- Weather_Timestamp: timestamp (nullable = true)\n",
            " |-- Temperature(F): double (nullable = true)\n",
            " |-- Wind_Chill(F): double (nullable = true)\n",
            " |-- Humidity(%): double (nullable = true)\n",
            " |-- Pressure(in): double (nullable = true)\n",
            " |-- Visibility(mi): double (nullable = true)\n",
            " |-- Wind_Direction: string (nullable = true)\n",
            " |-- Wind_Speed(mph): double (nullable = true)\n",
            " |-- Precipitation(in): double (nullable = true)\n",
            " |-- Weather_Condition: string (nullable = true)\n",
            " |-- Amenity: boolean (nullable = true)\n",
            " |-- Bump: boolean (nullable = true)\n",
            " |-- Crossing: boolean (nullable = true)\n",
            " |-- Give_Way: boolean (nullable = true)\n",
            " |-- Junction: boolean (nullable = true)\n",
            " |-- No_Exit: boolean (nullable = true)\n",
            " |-- Railway: boolean (nullable = true)\n",
            " |-- Roundabout: boolean (nullable = true)\n",
            " |-- Station: boolean (nullable = true)\n",
            " |-- Stop: boolean (nullable = true)\n",
            " |-- Traffic_Calming: boolean (nullable = true)\n",
            " |-- Traffic_Signal: boolean (nullable = true)\n",
            " |-- Turning_Loop: boolean (nullable = true)\n",
            " |-- Sunrise_Sunset: string (nullable = true)\n",
            " |-- Civil_Twilight: string (nullable = true)\n",
            " |-- Nautical_Twilight: string (nullable = true)\n",
            " |-- Astronomical_Twilight: string (nullable = true)\n",
            "\n"
          ]
        }
      ],
      "source": [
        "from pyspark.sql import SparkSession\n",
        "spark = SparkSession.builder \\\n",
        "                    .master(\"local[*]\") \\\n",
        "                    .config(\"spark.executor.memory\", \"8g\") \\\n",
        "                    .config(\"spark.driver.memory\", \"4g\") \\\n",
        "                    .appName(\"mlibs\") \\\n",
        "                    .getOrCreate()\n",
        "\n",
        "inDF = spark.read.format(\"csv\") \\\n",
        "  .option(\"sep\", \",\") \\\n",
        "  .option(\"inferSchema\", \"true\") \\\n",
        "  .option(\"header\", \"true\") \\\n",
        "  .load(path + \"/US_Accidents_March23.csv\")\n",
        "\n",
        "inDF.printSchema()\n",
        "\n",
        "inDF.createOrReplaceTempView(\"accidents\")"
      ]
    },
    {
      "cell_type": "code",
      "execution_count": null,
      "metadata": {
        "colab": {
          "base_uri": "https://localhost:8080/"
        },
        "id": "3H6w65rS9VTb",
        "outputId": "065a1f91-eb69-4ca9-e1a2-7e5205c8c2a6"
      },
      "outputs": [
        {
          "name": "stdout",
          "output_type": "stream",
          "text": [
            "+--------------------+--------+------------------+\n",
            "|            features|Severity|        prediction|\n",
            "+--------------------+--------+------------------+\n",
            "|[5.0,84.0,2.5,6.9...|       2| 2.185137071886402|\n",
            "|[5.0,84.0,5.0,6.9...|       2|2.1800807966217635|\n",
            "|[6.1,55.0,7.0,11....|       2| 2.171018199493843|\n",
            "|[7.0,53.0,10.0,15...|       2| 2.171207438083971|\n",
            "|[7.0,80.0,5.0,5.8...|       3|2.1752611988035584|\n",
            "|[8.1,46.0,10.0,11...|       2| 2.159909903403458|\n",
            "|[9.0,67.0,9.0,18....|       2|2.2088813287510263|\n",
            "|[9.0,77.0,2.5,8.1...|       3|2.1833681536096514|\n",
            "|[9.0,84.0,6.0,6.9...|       2| 2.177109464412685|\n",
            "|[9.0,84.0,6.0,6.9...|       2| 2.177109464412685|\n",
            "+--------------------+--------+------------------+\n",
            "only showing top 10 rows\n",
            "\n",
            "Root Mean Squared Error (RMSE): 0.45\n",
            "Współczynniki regresji: [-0.0002182711982496193,0.000504367297982355,-0.002044149337348125,0.0021505329361605386,0.06988612086376723,0.005409807873193927]\n",
            "Wyraz wolny (intercept): 2.134133270930995\n"
          ]
        }
      ],
      "source": []
    },
    {
      "cell_type": "code",
      "source": [
        "from pyspark.sql import SparkSession\n",
        "from pyspark.ml.feature import VectorAssembler\n",
        "from pyspark.ml.classification import DecisionTreeClassifier\n",
        "from pyspark.ml.evaluation import MulticlassClassificationEvaluator\n",
        "from pyspark.ml import Pipeline\n",
        "from pyspark.ml.regression import LinearRegression\n"
      ],
      "metadata": {
        "id": "ks8psP9faWdO"
      },
      "execution_count": 7,
      "outputs": []
    },
    {
      "cell_type": "code",
      "source": [
        "input_cols = [\n",
        "    \"Temperature(F)\",\n",
        "    \"Humidity(%)\",\n",
        "    \"Visibility(mi)\",\n",
        "    \"Wind_Speed(mph)\",\n",
        "    \"Precipitation(in)\",\n",
        "    \"Distance(mi)\",\n",
        "]\n",
        "label = \"Severity\"\n",
        "\n",
        "clean_inDF = inDF.na.drop(subset=[label, *input_cols])\n",
        "df = clean_inDF.select([label, *input_cols])\n",
        "\n",
        "df.show(2)"
      ],
      "metadata": {
        "colab": {
          "base_uri": "https://localhost:8080/"
        },
        "id": "CfuLM9j8bV6l",
        "outputId": "755c39c2-cc23-45dc-bebf-6f02e65549ec"
      },
      "execution_count": 12,
      "outputs": [
        {
          "output_type": "stream",
          "name": "stdout",
          "text": [
            "+--------+--------------+-----------+--------------+---------------+-----------------+------------+\n",
            "|Severity|Temperature(F)|Humidity(%)|Visibility(mi)|Wind_Speed(mph)|Precipitation(in)|Distance(mi)|\n",
            "+--------+--------------+-----------+--------------+---------------+-----------------+------------+\n",
            "|       3|          37.9|       97.0|           7.0|            3.5|             0.03|        0.01|\n",
            "|       3|          37.4|      100.0|           3.0|            4.6|             0.02|        0.01|\n",
            "+--------+--------------+-----------+--------------+---------------+-----------------+------------+\n",
            "only showing top 2 rows\n",
            "\n"
          ]
        }
      ]
    },
    {
      "cell_type": "code",
      "source": [
        "assembler = VectorAssembler(inputCols=input_cols, outputCol=\"features\")\n",
        "lr = LinearRegression(featuresCol=\"features\", labelCol=label)\n",
        "train_data, test_data = df.randomSplit([0.8, 0.2], seed=42)"
      ],
      "metadata": {
        "id": "UQxmWYZhaYWD"
      },
      "execution_count": 16,
      "outputs": []
    },
    {
      "cell_type": "code",
      "source": [
        "pipeline = Pipeline(stages=[assembler, lr])\n",
        "model = pipeline.fit(df)\n"
      ],
      "metadata": {
        "id": "Et-WWjqNfWPB"
      },
      "execution_count": 17,
      "outputs": []
    },
    {
      "cell_type": "code",
      "source": [
        "predictions = model.transform(df)"
      ],
      "metadata": {
        "id": "IqUwtrSsgXuB"
      },
      "execution_count": 18,
      "outputs": []
    },
    {
      "cell_type": "code",
      "source": [
        "predictions.select(\"features\", label, \"prediction\").show()"
      ],
      "metadata": {
        "colab": {
          "base_uri": "https://localhost:8080/"
        },
        "id": "4AQ8_WS4gaPN",
        "outputId": "000be1a5-11c0-415c-8e72-c53be77a1068"
      },
      "execution_count": 19,
      "outputs": [
        {
          "output_type": "stream",
          "name": "stdout",
          "text": [
            "+--------------------+--------+------------------+\n",
            "|            features|Severity|        prediction|\n",
            "+--------------------+--------+------------------+\n",
            "|[37.9,97.0,7.0,3....|       3|2.1709560176596714|\n",
            "|[37.4,100.0,3.0,4...|       3| 2.182876339769181|\n",
            "|[37.4,100.0,3.0,4...|       3| 2.182876339769181|\n",
            "|[37.4,100.0,3.0,4...|       2| 2.182876339769181|\n",
            "|[33.8,100.0,2.0,4...|       2| 2.184666462953303|\n",
            "|[35.1,89.0,6.0,8....|       2| 2.180014716893894|\n",
            "|[37.0,96.0,8.0,5....|       3|2.1724807697553956|\n",
            "|[37.9,100.0,5.0,4...|       2| 2.186724965931995|\n",
            "|[36.0,86.0,7.0,9....|       2| 2.177354724010093|\n",
            "|[39.9,70.0,10.0,1...|       2| 2.166800138628533|\n",
            "|[37.0,89.0,10.0,6...|       2| 2.167133889906331|\n",
            "|[34.2,97.0,10.0,3...|       2| 2.165077596457728|\n",
            "|[33.1,92.0,7.0,8....|       2|2.1788551503058566|\n",
            "|[33.1,92.0,9.0,9....|       2|2.1850641984069146|\n",
            "|[22.8,89.0,4.0,11...|       2| 2.193968815327794|\n",
            "|[26.6,86.0,1.5,8....|       3|2.1876426119306043|\n",
            "|[21.0,85.0,0.8,9....|       2|2.1923765810505835|\n",
            "|[23.0,86.0,3.0,10...|       2| 2.190939488762508|\n",
            "|[19.9,89.0,1.8,13...|       2| 2.205017674425477|\n",
            "|[25.0,88.0,1.0,9....|       3|2.1939693533854028|\n",
            "+--------------------+--------+------------------+\n",
            "only showing top 20 rows\n",
            "\n"
          ]
        }
      ]
    },
    {
      "cell_type": "code",
      "source": [
        "from pyspark.ml.evaluation import RegressionEvaluator\n",
        "\n",
        "evaluator_rmse = RegressionEvaluator(labelCol=label, predictionCol=\"prediction\", metricName=\"rmse\")\n",
        "rmse = evaluator_rmse.evaluate(predictions)\n",
        "print(f\"Root Mean Squared Error (RMSE) on test data = {rmse}\")\n",
        "\n",
        "evaluator_r2 = RegressionEvaluator(labelCol=label, predictionCol=\"prediction\", metricName=\"r2\")\n",
        "r2 = evaluator_r2.evaluate(predictions)\n",
        "print(f\"R^2 on test data = {r2}\")"
      ],
      "metadata": {
        "colab": {
          "base_uri": "https://localhost:8080/"
        },
        "id": "sZ5Iirxqf1AS",
        "outputId": "c4a0578b-a5b3-4e59-9d32-6ea7a4a00d26"
      },
      "execution_count": 22,
      "outputs": [
        {
          "output_type": "stream",
          "name": "stdout",
          "text": [
            "Root Mean Squared Error (RMSE) on test data = 0.44982162353196187\n",
            "R^2 on test data = 0.003757560377714575\n"
          ]
        }
      ]
    },
    {
      "cell_type": "code",
      "source": [
        "lr_model = model.stages[-1]\n",
        "coefs = list(lr_model.coefficients)\n",
        "intercept = lr_model.intercept"
      ],
      "metadata": {
        "id": "TTzvu_8PlAx2"
      },
      "execution_count": 26,
      "outputs": []
    },
    {
      "cell_type": "code",
      "source": [
        "for name, coef in zip(input_cols, coefs):\n",
        "    print(f\"{name}: {coef:+.6f}\")\n",
        "print(f\"Intercept: {intercept:+.6f}\")"
      ],
      "metadata": {
        "colab": {
          "base_uri": "https://localhost:8080/"
        },
        "id": "HVLq-wsBmcvx",
        "outputId": "e8cd4f4d-7c96-46e8-f25e-e5b64f64ea98"
      },
      "execution_count": 37,
      "outputs": [
        {
          "output_type": "stream",
          "name": "stdout",
          "text": [
            "Temperature(F): -0.000198\n",
            "Humidity(%): +0.000641\n",
            "Visibility(mi): -0.001922\n",
            "Wind_Speed(mph): +0.002716\n",
            "Precipitation(in): +0.077877\n",
            "Distance(mi): +0.006542\n",
            "Intercept: +2.117780\n"
          ]
        }
      ]
    },
    {
      "cell_type": "markdown",
      "metadata": {
        "id": "PIsVsigfBsXw"
      },
      "source": [
        "# Zadanie 2\n",
        "\n",
        "#### Zadanie 1: Wczytanie danych i ich analiza\n",
        "1. Wczytaj dane o wypadkach z pliku CSV do Apache Spark: Plik: ```US_Accidents_March23.csv```.\n",
        "Użyj dostarczonego kodu do inicjalizacji SparkSession i wczytania pliku.\n",
        "\n",
        "#### Zadanie 2: Przygotowanie danych\n",
        "1. Wybierz następujące cechy (features) do modelu:\n",
        "Temperature(F), Humidity(%), Visibility(mi), Wind_Speed(mph), Precipitation(in), Distance(mi).\n",
        "2. Usuń wiersze z brakującymi wartościami w wybranych kolumnach.\n",
        "3. Jeśli Severity jest zmienną kategoryczną, zakoduj ją jako wartości liczbowe za pomocą StringIndexer.\n",
        "\n",
        "#### Zadanie 3: Budowa modelu drzewa decyzyjnego\n",
        "1. Przygotuj dane wejściowe:\n",
        "2. Połącz wybrane cechy w jedną kolumnę features za pomocą VectorAssembler.\n",
        "3. Stwórz model drzewa decyzyjnego (DecisionTreeClassifier) o maksymalnej głębokości 5.\n",
        "4. Podziel dane na zbiór treningowy (80%) i testowy (20%).\n",
        "Wytrenuj model na zbiorze treningowym.\n",
        "\n",
        "#### Zadanie 4: Ewaluacja modelu\n",
        "1. Wykonaj predykcje na zbiorze testowym.\n",
        "2. Wyświetl wyniki predykcji w formacie:\n",
        "features, label (rzeczywista klasa), prediction (przewidywana klasa).\n",
        "3. Oblicz dokładność modelu (accuracy) za pomocą MulticlassClassificationEvaluator.\n",
        "\n",
        "#### Zadanie 5: Analiza wyników\n",
        "1. Wyświetl strukturę drzewa decyzyjnego (toDebugString).\n",
        "Odpowiedz na pytania:\n",
        "* Jakie cechy są najbardziej istotne w podziale danych w drzewie?\n",
        "* Czy dokładność modelu jest satysfakcjonująca? Jeśli nie, jakie mogą być przyczyny?\n",
        "#### Zadanie 6: Optymalizacja modelu\n",
        "1. Zastosuj optymalizację hiperparametrów:\n",
        "2. Użyj CrossValidator i ParamGridBuilder, aby przetestować różne wartości maxDepth (np. [3, 5, 7]) i maxBins (np. [16, 32, 64]).\n",
        "3. Wytrenuj zoptymalizowany model na zbiorze treningowym i ponownie ocen jego dokładność.\n",
        "\n",
        "* Porównaj wyniki z oryginalnym modelem.\n",
        "* Jakie wartości cech wpływają najbardziej na przewidywanie powagi wypadków (Severity)?\n",
        "* Czy dokładność modelu wzrosła po optymalizacji parametrów? Jeśli tak, które parametry miały największy wpływ?\n",
        "Jakie inne cechy można by dodać do modelu, aby poprawić jego jakość?\n"
      ]
    },
    {
      "cell_type": "code",
      "source": [
        "from pyspark.ml.feature import StringIndexer\n",
        "\n",
        "idx = StringIndexer(inputCol=\"Severity\",outputCol=\"Severity_tmp\").fit(df)\n",
        "\n",
        "df = idx.transform(df).drop(\"Severity\").withColumnRenamed(\"Severity_tmp\", \"Severity\")\n",
        "\n",
        "df.show(2)"
      ],
      "metadata": {
        "colab": {
          "base_uri": "https://localhost:8080/"
        },
        "id": "iMQG8qo1hGad",
        "outputId": "7e2f81fd-a0ad-410e-e465-72f70b425f41"
      },
      "execution_count": 23,
      "outputs": [
        {
          "output_type": "stream",
          "name": "stdout",
          "text": [
            "+--------------+-----------+--------------+---------------+-----------------+------------+--------+\n",
            "|Temperature(F)|Humidity(%)|Visibility(mi)|Wind_Speed(mph)|Precipitation(in)|Distance(mi)|Severity|\n",
            "+--------------+-----------+--------------+---------------+-----------------+------------+--------+\n",
            "|          37.9|       97.0|           7.0|            3.5|             0.03|        0.01|     1.0|\n",
            "|          37.4|      100.0|           3.0|            4.6|             0.02|        0.01|     1.0|\n",
            "+--------------+-----------+--------------+---------------+-----------------+------------+--------+\n",
            "only showing top 2 rows\n",
            "\n"
          ]
        }
      ]
    },
    {
      "cell_type": "code",
      "source": [
        "assembler = VectorAssembler(inputCols=input_cols, outputCol=\"features\")\n"
      ],
      "metadata": {
        "id": "YiyRprGulf93"
      },
      "execution_count": 28,
      "outputs": []
    },
    {
      "cell_type": "code",
      "source": [
        "model = DecisionTreeClassifier(featuresCol=\"features\", labelCol=label, maxDepth=5)\n",
        "pipeline = Pipeline(stages=[assembler, model])"
      ],
      "metadata": {
        "id": "e--17A2Zm5_Y"
      },
      "execution_count": 40,
      "outputs": []
    },
    {
      "cell_type": "code",
      "source": [
        "train_data, test_data = df.randomSplit([0.8, 0.2], seed=42)\n",
        "model = pipeline.fit(train_data)"
      ],
      "metadata": {
        "id": "bcCI4XZ8mBXu"
      },
      "execution_count": 41,
      "outputs": []
    },
    {
      "cell_type": "code",
      "source": [
        "predictions = model.transform(test_data)\n",
        "predictions.select(\"features\", label, \"prediction\").show()"
      ],
      "metadata": {
        "colab": {
          "base_uri": "https://localhost:8080/"
        },
        "id": "onWinoTkm_yh",
        "outputId": "73cba208-d373-4c44-d906-ae6948cf6af5"
      },
      "execution_count": 42,
      "outputs": [
        {
          "output_type": "stream",
          "name": "stdout",
          "text": [
            "+--------------------+--------+----------+\n",
            "|            features|Severity|prediction|\n",
            "+--------------------+--------+----------+\n",
            "|[5.0,84.0,2.5,6.9...|     0.0|       0.0|\n",
            "|[5.0,84.0,5.0,6.9...|     0.0|       0.0|\n",
            "|[6.1,55.0,7.0,11....|     0.0|       0.0|\n",
            "|[7.0,53.0,10.0,15...|     0.0|       0.0|\n",
            "|[7.0,80.0,5.0,5.8...|     1.0|       0.0|\n",
            "|[8.1,46.0,10.0,11...|     0.0|       0.0|\n",
            "|[9.0,67.0,9.0,18....|     0.0|       0.0|\n",
            "|[9.0,77.0,2.5,8.1...|     1.0|       0.0|\n",
            "|[9.0,84.0,6.0,6.9...|     0.0|       0.0|\n",
            "|[9.0,84.0,6.0,6.9...|     0.0|       0.0|\n",
            "|[9.0,84.0,6.0,6.9...|     0.0|       0.0|\n",
            "|[9.0,88.0,8.0,6.9...|     0.0|       0.0|\n",
            "|[9.0,88.0,8.0,6.9...|     0.0|       0.0|\n",
            "|[9.1,68.0,10.0,9....|     0.0|       0.0|\n",
            "|[10.0,70.0,1.5,11...|     1.0|       0.0|\n",
            "|[10.0,73.0,6.0,10...|     0.0|       0.0|\n",
            "|[10.0,80.0,0.8,3....|     1.0|       0.0|\n",
            "|[10.9,67.0,4.0,18...|     0.0|       0.0|\n",
            "|[10.9,70.0,1.2,16...|     1.0|       0.0|\n",
            "|[10.9,70.0,6.0,10...|     0.0|       0.0|\n",
            "+--------------------+--------+----------+\n",
            "only showing top 20 rows\n",
            "\n"
          ]
        }
      ]
    },
    {
      "cell_type": "code",
      "source": [
        "evaluator = MulticlassClassificationEvaluator(\n",
        "   labelCol=label,\n",
        "   predictionCol=\"prediction\",\n",
        "   metricName=\"accuracy\"\n",
        ")\n",
        "\n",
        "accuracy = evaluator.evaluate(predictions)\n",
        "print(f\"Dokładność modelu: {accuracy:.2f}\")\n"
      ],
      "metadata": {
        "colab": {
          "base_uri": "https://localhost:8080/"
        },
        "id": "5ASIcDAKnM-E",
        "outputId": "52e060b0-0335-4862-ecbe-668abec824f3"
      },
      "execution_count": 43,
      "outputs": [
        {
          "output_type": "stream",
          "name": "stdout",
          "text": [
            "Dokładność modelu: 0.85\n"
          ]
        }
      ]
    },
    {
      "cell_type": "code",
      "source": [
        "dt_model = model.stages[1]\n",
        "print(dt_model.toDebugString)"
      ],
      "metadata": {
        "colab": {
          "base_uri": "https://localhost:8080/"
        },
        "id": "1xp5suQ0nTcS",
        "outputId": "b3ff89a7-ff4c-46e7-cea6-049035c4d404"
      },
      "execution_count": 44,
      "outputs": [
        {
          "output_type": "stream",
          "name": "stdout",
          "text": [
            "DecisionTreeClassificationModel: uid=DecisionTreeClassifier_a98ec3623eaf, depth=0, numNodes=1, numClasses=4, numFeatures=6\n",
            "  Predict: 0.0\n",
            "\n"
          ]
        }
      ]
    },
    {
      "cell_type": "code",
      "execution_count": null,
      "metadata": {
        "colab": {
          "base_uri": "https://localhost:8080/"
        },
        "id": "FjRfcRfk-jwy",
        "outputId": "be1c62b4-d534-4059-be0d-b1446cd24686"
      },
      "outputs": [
        {
          "name": "stdout",
          "output_type": "stream",
          "text": [
            "+--------------------+-----+----------+--------------------+\n",
            "|            features|label|prediction|         probability|\n",
            "+--------------------+-----+----------+--------------------+\n",
            "|[5.0,84.0,2.5,6.9...|  0.0|       0.0|[0.84567213718320...|\n",
            "|[5.0,84.0,5.0,6.9...|  0.0|       0.0|[0.84567213718320...|\n",
            "|[6.1,55.0,7.0,11....|  0.0|       0.0|[0.84567213718320...|\n",
            "|[7.0,53.0,10.0,15...|  0.0|       0.0|[0.84567213718320...|\n",
            "|[7.0,80.0,5.0,5.8...|  1.0|       0.0|[0.84567213718320...|\n",
            "|[8.1,46.0,10.0,11...|  0.0|       0.0|[0.84567213718320...|\n",
            "|[9.0,67.0,9.0,18....|  0.0|       0.0|[0.84567213718320...|\n",
            "|[9.0,77.0,2.5,8.1...|  1.0|       0.0|[0.84567213718320...|\n",
            "|[9.0,84.0,6.0,6.9...|  0.0|       0.0|[0.84567213718320...|\n",
            "|[9.0,84.0,6.0,6.9...|  0.0|       0.0|[0.84567213718320...|\n",
            "+--------------------+-----+----------+--------------------+\n",
            "only showing top 10 rows\n",
            "\n",
            "Dokładność modelu: 0.85\n",
            "Struktura drzewa decyzyjnego:\n",
            " DecisionTreeClassificationModel: uid=DecisionTreeClassifier_19ca0973c476, depth=0, numNodes=1, numClasses=4, numFeatures=6\n",
            "  Predict: 0.0\n",
            "\n"
          ]
        }
      ],
      "source": []
    },
    {
      "cell_type": "code",
      "execution_count": null,
      "metadata": {
        "colab": {
          "background_save": true
        },
        "id": "W3ZFkBQnC7lP",
        "outputId": "ec256f8e-877c-461f-9921-1f1c07b30853"
      },
      "outputs": [
        {
          "name": "stdout",
          "output_type": "stream",
          "text": [
            "Dokładność zoptymalizowanego modelu: 0.85\n",
            "Najlepsze parametry:\n",
            " - maxDepth: 5\n",
            " - maxBins: 32\n",
            "Struktura najlepszego drzewa decyzyjnego:\n",
            " DecisionTreeClassificationModel: uid=DecisionTreeClassifier_69a9ab9bb848, depth=0, numNodes=1, numClasses=4, numFeatures=6\n",
            "  Predict: 0.0\n",
            "\n",
            "Wpływ cech na model:\n",
            " - Temperature(F): 0.0000\n",
            " - Humidity(%): 0.0000\n",
            " - Visibility(mi): 0.0000\n",
            " - Wind_Speed(mph): 0.0000\n",
            " - Precipitation(in): 0.0000\n",
            " - Distance(mi): 0.0000\n"
          ]
        }
      ],
      "source": []
    },
    {
      "cell_type": "code",
      "execution_count": null,
      "metadata": {
        "id": "Mb-MYye3DXkO"
      },
      "outputs": [],
      "source": []
    }
  ],
  "metadata": {
    "colab": {
      "provenance": [],
      "include_colab_link": true
    },
    "kernelspec": {
      "display_name": "Python 3",
      "name": "python3"
    },
    "language_info": {
      "name": "python"
    }
  },
  "nbformat": 4,
  "nbformat_minor": 0
}