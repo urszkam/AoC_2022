{
  "nbformat": 4,
  "nbformat_minor": 0,
  "metadata": {
    "colab": {
      "provenance": [],
      "include_colab_link": true
    },
    "kernelspec": {
      "name": "python3",
      "display_name": "Python 3"
    },
    "language_info": {
      "name": "python"
    }
  },
  "cells": [
    {
      "cell_type": "markdown",
      "metadata": {
        "id": "view-in-github",
        "colab_type": "text"
      },
      "source": [
        "<a href=\"https://colab.research.google.com/github/urszkam/AoC_2022/blob/main/Copy_of_03_spark_student_new.ipynb\" target=\"_parent\"><img src=\"https://colab.research.google.com/assets/colab-badge.svg\" alt=\"Open In Colab\"/></a>"
      ]
    },
    {
      "cell_type": "markdown",
      "source": [
        "# Spark\n",
        "\n",
        "Zacznijmy od zainstalowania Sparka lokalnie na colabie:"
      ],
      "metadata": {
        "id": "VMwk11DS9e75"
      }
    },
    {
      "cell_type": "code",
      "source": [
        "!pip install pyspark --quiet\n",
        "!pip install -U -q PyDrive --quiet\n",
        "!apt install openjdk-8-jdk-headless &> /dev/null"
      ],
      "metadata": {
        "id": "_uNGPcpy9b05",
        "colab": {
          "base_uri": "https://localhost:8080/"
        },
        "outputId": "95243f8a-9a24-4d49-8e7e-f98b9bb7faad"
      },
      "execution_count": 1,
      "outputs": [
        {
          "output_type": "stream",
          "name": "stdout",
          "text": [
            "\u001b[?25l     \u001b[90m━━━━━━━━━━━━━━━━━━━━━━━━━━━━━━━━━━━━━━━━\u001b[0m \u001b[32m0.0/987.4 kB\u001b[0m \u001b[31m?\u001b[0m eta \u001b[36m-:--:--\u001b[0m\r\u001b[2K     \u001b[91m━━━━━━━━\u001b[0m\u001b[91m╸\u001b[0m\u001b[90m━━━━━━━━━━━━━━━━━━━━━━━━━━━━━━\u001b[0m \u001b[32m225.3/987.4 kB\u001b[0m \u001b[31m9.2 MB/s\u001b[0m eta \u001b[36m0:00:01\u001b[0m\r\u001b[2K     \u001b[91m━━━━━━━━━━━━━━━━━━━━━━━━━━━━━━━━━━━━━\u001b[0m\u001b[91m╸\u001b[0m \u001b[32m983.0/987.4 kB\u001b[0m \u001b[31m15.5 MB/s\u001b[0m eta \u001b[36m0:00:01\u001b[0m\r\u001b[2K     \u001b[90m━━━━━━━━━━━━━━━━━━━━━━━━━━━━━━━━━━━━━━\u001b[0m \u001b[32m987.4/987.4 kB\u001b[0m \u001b[31m12.6 MB/s\u001b[0m eta \u001b[36m0:00:00\u001b[0m\n",
            "\u001b[?25h  Preparing metadata (setup.py) ... \u001b[?25l\u001b[?25hdone\n",
            "  Building wheel for PyDrive (setup.py) ... \u001b[?25l\u001b[?25hdone\n"
          ]
        }
      ]
    },
    {
      "cell_type": "code",
      "source": [
        "import os\n",
        "import pyspark\n",
        "from pyspark import SparkContext, SparkConf\n",
        "\n",
        "os.environ[\"JAVA_HOME\"] = \"/usr/lib/jvm/java-11-openjdk-amd64\"\n",
        "conf = SparkConf().set('spark.ui.port', '4050').setAppName(\"mlibs\").setMaster(\"local[*]\")\n",
        "sc = SparkContext.getOrCreate(conf=conf)"
      ],
      "metadata": {
        "id": "gBBQzV7z9dM6"
      },
      "execution_count": 2,
      "outputs": []
    },
    {
      "cell_type": "code",
      "execution_count": 3,
      "metadata": {
        "colab": {
          "base_uri": "https://localhost:8080/"
        },
        "id": "sxDh4B_SzTrI",
        "outputId": "5bec542e-6b07-4342-b37c-56dba55561ff"
      },
      "outputs": [
        {
          "output_type": "stream",
          "name": "stdout",
          "text": [
            "Using Colab cache for faster access to the 'us-accidents' dataset.\n",
            "/kaggle/input/us-accidents\n"
          ]
        }
      ],
      "source": [
        "import kagglehub\n",
        "\n",
        "path = kagglehub.dataset_download(\"sobhanmoosavi/us-accidents\")\n",
        "print(path)"
      ]
    },
    {
      "cell_type": "code",
      "source": [
        "!cp -R /root/.cache/kagglehub/datasets/sobhanmoosavi/us-accidents/versions/13/US_Accidents_March23.csv /content/sample_data/US_Accidents_March23.csv\n"
      ],
      "metadata": {
        "id": "GnZ5SuTjzYNi",
        "colab": {
          "base_uri": "https://localhost:8080/"
        },
        "outputId": "d8bb29b8-e265-4bc4-ea39-e98439199f90"
      },
      "execution_count": 7,
      "outputs": [
        {
          "output_type": "stream",
          "name": "stdout",
          "text": [
            "cp: cannot stat '/root/.cache/kagglehub/datasets/sobhanmoosavi/us-accidents/versions/13/US_Accidents_March23.csv': No such file or directory\n"
          ]
        }
      ]
    },
    {
      "cell_type": "markdown",
      "source": [
        "### **Podsumowanie zbioru danych o wypadkach samochodowych:**\n",
        "\n",
        "- **Identyfikacja:**\n",
        "  - `ID`: Unikalny identyfikator wypadku.\n",
        "  - `Source`: Źródło danych (np. raporty policyjne, systemy monitoringu).\n",
        "\n",
        "- **Czas:**\n",
        "  - `Start_Time`, `End_Time`: Czas rozpoczęcia i zakończenia wypadku.\n",
        "\n",
        "- **Lokalizacja:**\n",
        "  - `Start_Lat`, `Start_Lng`, `End_Lat`, `End_Lng`: Współrzędne geograficzne miejsca wypadku.\n",
        "  - `Distance(mi)`: Dystans, jaki obejmuje wypadek.\n",
        "  - `City`, `State`, `Zipcode`, `Country`: Informacje o lokalizacji administracyjnej.\n",
        "  - `Street`: Ulica, na której doszło do wypadku.\n",
        "\n",
        "- **Pogoda:**\n",
        "  - `Weather_Condition`: Warunki pogodowe (np. \"Rain\", \"Clear\").\n",
        "  - `Temperature(F)`, `Humidity(%)`, `Visibility(mi)`: Kluczowe dane atmosferyczne.\n",
        "  - `Wind_Speed(mph)`, `Wind_Direction`: Prędkość i kierunek wiatru.\n",
        "  - `Precipitation(in)`: Opady deszczu lub śniegu.\n",
        "\n",
        "- **Infrastruktura:**\n",
        "  - `Amenity`, `Bump`, `Crossing`, `Traffic_Signal`: Informacje o obiektach i elementach drogowych w pobliżu wypadku (np. ronda, progi zwalniające, skrzyżowania).\n",
        "  - `Junction`, `No_Exit`, `Railway`: Lokalizacje związane z infrastrukturą drogową.\n",
        "\n",
        "- **Oświetlenie:**\n",
        "  - `Sunrise_Sunset`: Pora dnia w chwili wypadku (np. \"Day\" lub \"Night\").\n",
        "  - `Civil_Twilight`, `Nautical_Twilight`, `Astronomical_Twilight`: Różne fazy zmierzchu i świtu.\n",
        "\n",
        "- **Opis i szczegóły:**\n",
        "  - `Description`: Tekstowy opis wypadku.\n",
        "  - `Severity`: Skala powagi wypadku (np. od 1 do 5).\n",
        "  - `Airport_Code`: Kod lotniska najbliższego miejsca wypadku.\n",
        "\n",
        "---\n",
        "\n",
        "### **Przykładowe zastosowania danych:**\n",
        "- Identyfikacja lokalizacji wysokiego ryzyka.\n",
        "- Analiza wpływu pogody na bezpieczeństwo ruchu drogowego.\n",
        "- Ocena infrastruktury drogowej i jej związku z wypadkami.\n",
        "- Monitorowanie trendów czasowych i przestrzennych wypadków."
      ],
      "metadata": {
        "id": "Z4krrfHJ3rSt"
      }
    },
    {
      "cell_type": "code",
      "source": [
        "from pyspark.sql import SparkSession\n",
        "spark = SparkSession.builder \\\n",
        "                    .master(\"local[*]\") \\\n",
        "                    .config(\"spark.executor.memory\", \"8g\") \\\n",
        "                    .config(\"spark.driver.memory\", \"4g\") \\\n",
        "                    .appName(\"mlibs\") \\\n",
        "                    .getOrCreate()\n",
        "\n",
        "inDF = spark.read.format(\"csv\") \\\n",
        "  .option(\"sep\", \",\") \\\n",
        "  .option(\"inferSchema\", \"true\") \\\n",
        "  .option(\"header\", \"true\") \\\n",
        "  .load(path + \"/US_Accidents_March23.csv\")\n",
        "\n",
        "inDF.printSchema()\n",
        "\n",
        "inDF.createOrReplaceTempView(\"accidents\")"
      ],
      "metadata": {
        "colab": {
          "base_uri": "https://localhost:8080/"
        },
        "id": "giAYmqR5zs3L",
        "outputId": "d578f296-3367-434b-e2fa-57871f9db90e"
      },
      "execution_count": 8,
      "outputs": [
        {
          "output_type": "stream",
          "name": "stdout",
          "text": [
            "root\n",
            " |-- ID: string (nullable = true)\n",
            " |-- Source: string (nullable = true)\n",
            " |-- Severity: integer (nullable = true)\n",
            " |-- Start_Time: timestamp (nullable = true)\n",
            " |-- End_Time: timestamp (nullable = true)\n",
            " |-- Start_Lat: double (nullable = true)\n",
            " |-- Start_Lng: double (nullable = true)\n",
            " |-- End_Lat: double (nullable = true)\n",
            " |-- End_Lng: double (nullable = true)\n",
            " |-- Distance(mi): double (nullable = true)\n",
            " |-- Description: string (nullable = true)\n",
            " |-- Street: string (nullable = true)\n",
            " |-- City: string (nullable = true)\n",
            " |-- County: string (nullable = true)\n",
            " |-- State: string (nullable = true)\n",
            " |-- Zipcode: string (nullable = true)\n",
            " |-- Country: string (nullable = true)\n",
            " |-- Timezone: string (nullable = true)\n",
            " |-- Airport_Code: string (nullable = true)\n",
            " |-- Weather_Timestamp: timestamp (nullable = true)\n",
            " |-- Temperature(F): double (nullable = true)\n",
            " |-- Wind_Chill(F): double (nullable = true)\n",
            " |-- Humidity(%): double (nullable = true)\n",
            " |-- Pressure(in): double (nullable = true)\n",
            " |-- Visibility(mi): double (nullable = true)\n",
            " |-- Wind_Direction: string (nullable = true)\n",
            " |-- Wind_Speed(mph): double (nullable = true)\n",
            " |-- Precipitation(in): double (nullable = true)\n",
            " |-- Weather_Condition: string (nullable = true)\n",
            " |-- Amenity: boolean (nullable = true)\n",
            " |-- Bump: boolean (nullable = true)\n",
            " |-- Crossing: boolean (nullable = true)\n",
            " |-- Give_Way: boolean (nullable = true)\n",
            " |-- Junction: boolean (nullable = true)\n",
            " |-- No_Exit: boolean (nullable = true)\n",
            " |-- Railway: boolean (nullable = true)\n",
            " |-- Roundabout: boolean (nullable = true)\n",
            " |-- Station: boolean (nullable = true)\n",
            " |-- Stop: boolean (nullable = true)\n",
            " |-- Traffic_Calming: boolean (nullable = true)\n",
            " |-- Traffic_Signal: boolean (nullable = true)\n",
            " |-- Turning_Loop: boolean (nullable = true)\n",
            " |-- Sunrise_Sunset: string (nullable = true)\n",
            " |-- Civil_Twilight: string (nullable = true)\n",
            " |-- Nautical_Twilight: string (nullable = true)\n",
            " |-- Astronomical_Twilight: string (nullable = true)\n",
            "\n"
          ]
        }
      ]
    },
    {
      "cell_type": "markdown",
      "source": [
        "### **Treści do zadań**\n",
        "\n",
        "---\n",
        "\n",
        "### **Zadanie 1: Podstawowe statystyki dla kolumny `Severity`**\n",
        "Policz liczbę wypadków dla każdej wartości kolumny `Severity` i posortuj wyniki w kolejności malejącej.\n"
      ],
      "metadata": {
        "id": "uHEcvDKYz2hz"
      }
    },
    {
      "cell_type": "code",
      "source": [],
      "metadata": {
        "colab": {
          "base_uri": "https://localhost:8080/"
        },
        "id": "tFZQHkDsz4Yy",
        "outputId": "ca9639ff-7e89-4f56-89fb-020f50ecc13d"
      },
      "execution_count": null,
      "outputs": [
        {
          "output_type": "stream",
          "name": "stdout",
          "text": [
            "+--------+---------------+\n",
            "|Severity|Total_Accidents|\n",
            "+--------+---------------+\n",
            "|       2|        6156981|\n",
            "|       3|        1299337|\n",
            "|       4|         204710|\n",
            "|       1|          67366|\n",
            "+--------+---------------+\n",
            "\n"
          ]
        }
      ]
    },
    {
      "cell_type": "code",
      "source": [
        "inDF.select(\"Severity\").groupBy(\"Severity\").count().orderBy(\"count\", ascending=False).show(50)"
      ],
      "metadata": {
        "colab": {
          "base_uri": "https://localhost:8080/"
        },
        "id": "j8C_bToZGJ-P",
        "outputId": "d04778e7-d9bf-475e-a076-a1a0fc7bc858"
      },
      "execution_count": 12,
      "outputs": [
        {
          "output_type": "stream",
          "name": "stdout",
          "text": [
            "+--------+-------+\n",
            "|Severity|  count|\n",
            "+--------+-------+\n",
            "|       2|6156981|\n",
            "|       3|1299337|\n",
            "|       4| 204710|\n",
            "|       1|  67366|\n",
            "+--------+-------+\n",
            "\n"
          ]
        }
      ]
    },
    {
      "cell_type": "markdown",
      "source": [
        "\n",
        "---\n",
        "\n",
        "### **Zadanie 2: Analiza wypadków według stanu (`State`)**\n",
        "Znajdź stany z największą liczbą wypadków. Wyświetl tylko te stany, w których liczba wypadków przekracza 10 000.\n",
        "\n",
        "---"
      ],
      "metadata": {
        "id": "ofjBvxd6z5Ab"
      }
    },
    {
      "cell_type": "code",
      "source": [],
      "metadata": {
        "colab": {
          "base_uri": "https://localhost:8080/"
        },
        "id": "LwlbxIPSz6DK",
        "outputId": "a6d17d90-a0a2-41c1-b5cb-343564e0dd90"
      },
      "execution_count": null,
      "outputs": [
        {
          "output_type": "stream",
          "name": "stdout",
          "text": [
            "+-----+---------------+\n",
            "|State|Total_Accidents|\n",
            "+-----+---------------+\n",
            "|   CA|        1741433|\n",
            "|   FL|         880192|\n",
            "|   TX|         582837|\n",
            "|   SC|         382557|\n",
            "|   NY|         347960|\n",
            "|   NC|         338199|\n",
            "|   VA|         303301|\n",
            "|   PA|         296620|\n",
            "|   MN|         192084|\n",
            "|   OR|         179660|\n",
            "|   AZ|         170609|\n",
            "|   GA|         169234|\n",
            "|   IL|         168958|\n",
            "|   TN|         167388|\n",
            "|   MI|         162191|\n",
            "|   LA|         149701|\n",
            "|   NJ|         140719|\n",
            "|   MD|         140417|\n",
            "|   OH|         118115|\n",
            "|   WA|         108221|\n",
            "+-----+---------------+\n",
            "only showing top 20 rows\n",
            "\n"
          ]
        }
      ]
    },
    {
      "cell_type": "code",
      "source": [
        "inDF.select(\"State\").groupBy(\"State\").count().withColumnRenamed(\"count\", \"Total_Accidents\").orderBy(\"Total_Accidents\", ascending=False).show(20)"
      ],
      "metadata": {
        "colab": {
          "base_uri": "https://localhost:8080/"
        },
        "id": "D-IsWhQUG2Yf",
        "outputId": "e02bcfab-b389-4219-aa07-7343acb9f0a1"
      },
      "execution_count": 14,
      "outputs": [
        {
          "output_type": "stream",
          "name": "stdout",
          "text": [
            "+-----+---------------+\n",
            "|State|Total_Accidents|\n",
            "+-----+---------------+\n",
            "|   CA|        1741433|\n",
            "|   FL|         880192|\n",
            "|   TX|         582837|\n",
            "|   SC|         382557|\n",
            "|   NY|         347960|\n",
            "|   NC|         338199|\n",
            "|   VA|         303301|\n",
            "|   PA|         296620|\n",
            "|   MN|         192084|\n",
            "|   OR|         179660|\n",
            "|   AZ|         170609|\n",
            "|   GA|         169234|\n",
            "|   IL|         168958|\n",
            "|   TN|         167388|\n",
            "|   MI|         162191|\n",
            "|   LA|         149701|\n",
            "|   NJ|         140719|\n",
            "|   MD|         140417|\n",
            "|   OH|         118115|\n",
            "|   WA|         108221|\n",
            "+-----+---------------+\n",
            "only showing top 20 rows\n",
            "\n"
          ]
        }
      ]
    },
    {
      "cell_type": "markdown",
      "source": [
        "\n",
        "\n",
        "### **Zadanie 3: Analiza długości wypadków**\n",
        "Oblicz średni czas trwania wypadków (`End_Time - Start_Time`) dla każdego poziomu `Severity`. Wynik podaj w minutach.\n",
        "\n",
        "---"
      ],
      "metadata": {
        "id": "RXT5WCFfz6eX"
      }
    },
    {
      "cell_type": "code",
      "source": [],
      "metadata": {
        "colab": {
          "base_uri": "https://localhost:8080/"
        },
        "id": "dT0Bqcorz77m",
        "outputId": "3dc43d81-a44e-44f0-be26-35a2ceed040e"
      },
      "execution_count": null,
      "outputs": [
        {
          "output_type": "stream",
          "name": "stdout",
          "text": [
            "+--------+------------------------+\n",
            "|Severity|Average_Duration_Minutes|\n",
            "+--------+------------------------+\n",
            "|       1|        53.7829938940514|\n",
            "|       2|      485.43694180908903|\n",
            "|       3|       74.81007870424173|\n",
            "|       4|      1685.3479593082898|\n",
            "+--------+------------------------+\n",
            "\n"
          ]
        }
      ]
    },
    {
      "cell_type": "code",
      "source": [
        "from pyspark.sql.functions import avg, col\n",
        "\n",
        "\n",
        "inDF.withColumn(\"Duration\", (col(\"End_Time\").cast(\"long\") - col(\"Start_Time\").cast(\"long\")) / 60).groupBy(\"Severity\").agg(avg(\"Duration\").alias(\"Average_Duration_Minutes\")).orderBy(\"Severity\", ascending=True).show(50)"
      ],
      "metadata": {
        "colab": {
          "base_uri": "https://localhost:8080/"
        },
        "id": "MzRiiwIJHyKa",
        "outputId": "32f02b01-2bae-47f6-a29b-75fd7b13785d"
      },
      "execution_count": 21,
      "outputs": [
        {
          "output_type": "stream",
          "name": "stdout",
          "text": [
            "+--------+------------------------+\n",
            "|Severity|Average_Duration_Minutes|\n",
            "+--------+------------------------+\n",
            "|       1|       53.78299389405067|\n",
            "|       2|      485.43694180908466|\n",
            "|       3|       74.81007870424233|\n",
            "|       4|      1685.3479593082866|\n",
            "+--------+------------------------+\n",
            "\n"
          ]
        }
      ]
    },
    {
      "cell_type": "markdown",
      "source": [
        "\n",
        "\n",
        "### **Zadanie 4: Najbardziej niebezpieczne miasta**\n",
        "Znajdź 10 miast, w których wystąpiło najwięcej wypadków, i posortuj wyniki w kolejności malejącej.\n",
        "\n",
        "---\n"
      ],
      "metadata": {
        "id": "WPUuPTwsz8u-"
      }
    },
    {
      "cell_type": "code",
      "source": [],
      "metadata": {
        "colab": {
          "base_uri": "https://localhost:8080/"
        },
        "id": "_jrMk9sWz8Vu",
        "outputId": "ed4b925c-5785-4801-b225-66842f861bcd"
      },
      "execution_count": null,
      "outputs": [
        {
          "output_type": "stream",
          "name": "stdout",
          "text": [
            "+-----------+---------------+\n",
            "|       City|Total_Accidents|\n",
            "+-----------+---------------+\n",
            "|      Miami|         186917|\n",
            "|    Houston|         169609|\n",
            "|Los Angeles|         156491|\n",
            "|  Charlotte|         138652|\n",
            "|     Dallas|         130939|\n",
            "|    Orlando|         109733|\n",
            "|     Austin|          97359|\n",
            "|    Raleigh|          86079|\n",
            "|  Nashville|          72930|\n",
            "|Baton Rouge|          71588|\n",
            "+-----------+---------------+\n",
            "\n"
          ]
        }
      ]
    },
    {
      "cell_type": "code",
      "source": [
        "inDF.select(\"City\").groupBy(\"City\").count().withColumnRenamed(\"count\", \"Total_Accidents\").orderBy(\"Total_Accidents\", ascending=False).limit(10).show()"
      ],
      "metadata": {
        "colab": {
          "base_uri": "https://localhost:8080/"
        },
        "id": "wjqAVKOGK1Z9",
        "outputId": "b14e79e7-c0cd-4871-bdf3-bbd479d9e395"
      },
      "execution_count": 26,
      "outputs": [
        {
          "output_type": "stream",
          "name": "stdout",
          "text": [
            "+-----------+---------------+\n",
            "|       City|Total_Accidents|\n",
            "+-----------+---------------+\n",
            "|      Miami|         186917|\n",
            "|    Houston|         169609|\n",
            "|Los Angeles|         156491|\n",
            "|  Charlotte|         138652|\n",
            "|     Dallas|         130939|\n",
            "|    Orlando|         109733|\n",
            "|     Austin|          97359|\n",
            "|    Raleigh|          86079|\n",
            "|  Nashville|          72930|\n",
            "|Baton Rouge|          71588|\n",
            "+-----------+---------------+\n",
            "\n"
          ]
        }
      ]
    },
    {
      "cell_type": "markdown",
      "source": [
        "\n",
        "### **Zadanie 5: Wypadki według warunków pogodowych**\n",
        "Policz liczbę wypadków dla każdego typu warunków pogodowych (`Weather_Condition`) i wyświetl je w kolejności malejącej.\n",
        "\n",
        "---"
      ],
      "metadata": {
        "id": "ptAED2sJz-kg"
      }
    },
    {
      "cell_type": "code",
      "source": [],
      "metadata": {
        "colab": {
          "base_uri": "https://localhost:8080/"
        },
        "id": "8IKMvcSBz_Vj",
        "outputId": "203c00ab-569f-49bd-8dfd-5dc275bab225"
      },
      "execution_count": null,
      "outputs": [
        {
          "output_type": "stream",
          "name": "stdout",
          "text": [
            "+--------------------+---------------+\n",
            "|   Weather_Condition|Total_Accidents|\n",
            "+--------------------+---------------+\n",
            "|                Fair|        2560802|\n",
            "|       Mostly Cloudy|        1016195|\n",
            "|              Cloudy|         817082|\n",
            "|               Clear|         808743|\n",
            "|       Partly Cloudy|         698972|\n",
            "|            Overcast|         382866|\n",
            "|          Light Rain|         352957|\n",
            "|    Scattered Clouds|         204829|\n",
            "|          Light Snow|         128680|\n",
            "|                 Fog|          99238|\n",
            "|                Rain|          84331|\n",
            "|                Haze|          76223|\n",
            "|        Fair / Windy|          35671|\n",
            "|          Heavy Rain|          32309|\n",
            "|       Light Drizzle|          22684|\n",
            "|Thunder in the Vi...|          17611|\n",
            "|      Cloudy / Windy|          17035|\n",
            "|             T-Storm|          16810|\n",
            "|Mostly Cloudy / W...|          16508|\n",
            "|                Snow|          15537|\n",
            "|             Thunder|          14202|\n",
            "|Light Rain with T...|          13597|\n",
            "|               Smoke|          12668|\n",
            "|          Wintry Mix|          11703|\n",
            "|Partly Cloudy / W...|          10241|\n",
            "|       Heavy T-Storm|           9671|\n",
            "|  Light Rain / Windy|           7946|\n",
            "|  Light Snow / Windy|           6826|\n",
            "|          Heavy Snow|           5003|\n",
            "|Light Thunderstor...|           4931|\n",
            "|             Drizzle|           4726|\n",
            "|        Thunderstorm|           4438|\n",
            "|      Patches of Fog|           4144|\n",
            "|                Mist|           3539|\n",
            "| Light Freezing Rain|           3465|\n",
            "|   N/A Precipitation|           3252|\n",
            "|         Shallow Fog|           3068|\n",
            "|Heavy Thunderstor...|           2485|\n",
            "|        Rain / Windy|           2372|\n",
            "|Thunderstorms and...|           2217|\n",
            "|        Haze / Windy|           1595|\n",
            "|  Heavy Rain / Windy|           1523|\n",
            "|Showers in the Vi...|           1514|\n",
            "|        Snow / Windy|           1285|\n",
            "|Light Freezing Dr...|           1240|\n",
            "|Heavy T-Storm / W...|           1096|\n",
            "|  Light Freezing Fog|           1001|\n",
            "|Blowing Snow / Windy|            925|\n",
            "|  Heavy Snow / Windy|            902|\n",
            "|     T-Storm / Windy|            813|\n",
            "+--------------------+---------------+\n",
            "only showing top 50 rows\n",
            "\n"
          ]
        }
      ]
    },
    {
      "cell_type": "code",
      "source": [
        "inDF.select(\"Weather_Condition\").groupBy(\"Weather_Condition\").count().withColumnRenamed(\"count\", \"Total_Accidents\").orderBy(\"Total_Accidents\", ascending=False).show(50)"
      ],
      "metadata": {
        "colab": {
          "base_uri": "https://localhost:8080/"
        },
        "id": "CT1BEdwFMBwn",
        "outputId": "f0e5f2e4-d38f-4fbd-c7d2-6619569973f1"
      },
      "execution_count": 27,
      "outputs": [
        {
          "output_type": "stream",
          "name": "stdout",
          "text": [
            "+--------------------+---------------+\n",
            "|   Weather_Condition|Total_Accidents|\n",
            "+--------------------+---------------+\n",
            "|                Fair|        2560802|\n",
            "|       Mostly Cloudy|        1016195|\n",
            "|              Cloudy|         817082|\n",
            "|               Clear|         808743|\n",
            "|       Partly Cloudy|         698972|\n",
            "|            Overcast|         382866|\n",
            "|          Light Rain|         352957|\n",
            "|    Scattered Clouds|         204829|\n",
            "|                NULL|         173459|\n",
            "|          Light Snow|         128680|\n",
            "|                 Fog|          99238|\n",
            "|                Rain|          84331|\n",
            "|                Haze|          76223|\n",
            "|        Fair / Windy|          35671|\n",
            "|          Heavy Rain|          32309|\n",
            "|       Light Drizzle|          22684|\n",
            "|Thunder in the Vi...|          17611|\n",
            "|      Cloudy / Windy|          17035|\n",
            "|             T-Storm|          16810|\n",
            "|Mostly Cloudy / W...|          16508|\n",
            "|                Snow|          15537|\n",
            "|             Thunder|          14202|\n",
            "|Light Rain with T...|          13597|\n",
            "|               Smoke|          12668|\n",
            "|          Wintry Mix|          11703|\n",
            "|Partly Cloudy / W...|          10241|\n",
            "|       Heavy T-Storm|           9671|\n",
            "|  Light Rain / Windy|           7946|\n",
            "|  Light Snow / Windy|           6826|\n",
            "|          Heavy Snow|           5003|\n",
            "|Light Thunderstor...|           4931|\n",
            "|             Drizzle|           4726|\n",
            "|        Thunderstorm|           4438|\n",
            "|      Patches of Fog|           4144|\n",
            "|                Mist|           3539|\n",
            "| Light Freezing Rain|           3465|\n",
            "|   N/A Precipitation|           3252|\n",
            "|         Shallow Fog|           3068|\n",
            "|Heavy Thunderstor...|           2485|\n",
            "|        Rain / Windy|           2372|\n",
            "|Thunderstorms and...|           2217|\n",
            "|        Haze / Windy|           1595|\n",
            "|  Heavy Rain / Windy|           1523|\n",
            "|Showers in the Vi...|           1514|\n",
            "|        Snow / Windy|           1285|\n",
            "|Light Freezing Dr...|           1240|\n",
            "|Heavy T-Storm / W...|           1096|\n",
            "|  Light Freezing Fog|           1001|\n",
            "|Blowing Snow / Windy|            925|\n",
            "|  Heavy Snow / Windy|            902|\n",
            "+--------------------+---------------+\n",
            "only showing top 50 rows\n",
            "\n"
          ]
        }
      ]
    },
    {
      "cell_type": "markdown",
      "source": [
        "\n",
        "\n",
        "### **Zadanie 6: Wypadki a pora dnia**\n",
        "Sprawdź, jak liczba wypadków rozkłada się w zależności od pory dnia (`Sunrise_Sunset`).\n",
        "\n",
        "---"
      ],
      "metadata": {
        "id": "a5aIF-frz_p0"
      }
    },
    {
      "cell_type": "code",
      "source": [],
      "metadata": {
        "colab": {
          "base_uri": "https://localhost:8080/"
        },
        "id": "TQ5WjKoC0AVL",
        "outputId": "9be53348-8df8-468a-e2b8-8f9e4892043f"
      },
      "execution_count": null,
      "outputs": [
        {
          "output_type": "stream",
          "name": "stdout",
          "text": [
            "+--------------+---------------+\n",
            "|Sunrise_Sunset|Total_Accidents|\n",
            "+--------------+---------------+\n",
            "|          NULL|          23246|\n",
            "|         Night|        2370595|\n",
            "|           Day|        5334553|\n",
            "+--------------+---------------+\n",
            "\n"
          ]
        }
      ]
    },
    {
      "cell_type": "code",
      "source": [
        "inDF.select(\"Sunrise_Sunset\").groupBy(\"Sunrise_Sunset\").count().withColumnRenamed(\"count\", \"Total_Accidents\").show()"
      ],
      "metadata": {
        "colab": {
          "base_uri": "https://localhost:8080/"
        },
        "id": "DyIo8BnVMSKl",
        "outputId": "e6cb4995-197a-4cf9-a18f-78e36bc2ba09"
      },
      "execution_count": 28,
      "outputs": [
        {
          "output_type": "stream",
          "name": "stdout",
          "text": [
            "+--------------+---------------+\n",
            "|Sunrise_Sunset|Total_Accidents|\n",
            "+--------------+---------------+\n",
            "|          NULL|          23246|\n",
            "|         Night|        2370595|\n",
            "|           Day|        5334553|\n",
            "+--------------+---------------+\n",
            "\n"
          ]
        }
      ]
    },
    {
      "cell_type": "markdown",
      "source": [
        "\n",
        "\n",
        "### **Zadanie 7: Eksport przetworzonych danych**\n",
        "Wyeksportuj dane o wypadkach, które miały `Severity >= 3` i wystąpiły podczas warunków pogodowych \"Rain\" lub \"Snow\", do pliku w formacie Parquet.\n",
        "\n",
        "---\n"
      ],
      "metadata": {
        "id": "7SKXSvdP0CVT"
      }
    },
    {
      "cell_type": "code",
      "source": [
        "inDF.filter(\n",
        "    (inDF.Severity >= 3) &\n",
        "    (inDF.Weather_Condition.isin(\"Rain\", \"Snow\"))\n",
        ").write.parquet(\"file.parquet\", mode=\"overwrite\")"
      ],
      "metadata": {
        "id": "XY9HA35q0EyM"
      },
      "execution_count": 32,
      "outputs": []
    },
    {
      "cell_type": "code",
      "source": [],
      "metadata": {
        "id": "u2ky-2Na2f5w"
      },
      "execution_count": null,
      "outputs": []
    },
    {
      "cell_type": "markdown",
      "source": [
        "### Zadania Tips\n"
      ],
      "metadata": {
        "id": "wEdNw_Zx1du9"
      }
    },
    {
      "cell_type": "code",
      "source": [
        "!wget https://students.mimuw.edu.pl/~mw404851/dane.zip\n"
      ],
      "metadata": {
        "colab": {
          "base_uri": "https://localhost:8080/"
        },
        "id": "8lJfBko610sN",
        "outputId": "c62d4054-4d94-42d1-eee6-2546606a664f"
      },
      "execution_count": 29,
      "outputs": [
        {
          "output_type": "stream",
          "name": "stdout",
          "text": [
            "--2025-09-27 08:03:14--  https://students.mimuw.edu.pl/~mw404851/dane.zip\n",
            "Resolving students.mimuw.edu.pl (students.mimuw.edu.pl)... 193.0.96.129, 2001:6a0:5001:1::3\n",
            "Connecting to students.mimuw.edu.pl (students.mimuw.edu.pl)|193.0.96.129|:443... connected.\n",
            "HTTP request sent, awaiting response... 200 OK\n",
            "Length: 396807884 (378M) [application/zip]\n",
            "Saving to: ‘dane.zip’\n",
            "\n",
            "dane.zip            100%[===================>] 378.42M  23.5MB/s    in 16s     \n",
            "\n",
            "2025-09-27 08:03:31 (23.1 MB/s) - ‘dane.zip’ saved [396807884/396807884]\n",
            "\n"
          ]
        }
      ]
    },
    {
      "cell_type": "code",
      "source": [
        "!mkdir dane && unzip dane.zip -d dane"
      ],
      "metadata": {
        "colab": {
          "base_uri": "https://localhost:8080/"
        },
        "id": "43JRW1Oi3Cnm",
        "outputId": "f8597105-961c-44ac-fc7a-8a18a4a66c3c"
      },
      "execution_count": 30,
      "outputs": [
        {
          "output_type": "stream",
          "name": "stdout",
          "text": [
            "Archive:  dane.zip\n",
            "  inflating: dane/data_part_1.gz.parquet  \n",
            "  inflating: dane/data_part_0.gz.parquet  \n",
            "  inflating: dane/data_part_8.gz.parquet  \n",
            "  inflating: dane/data_part_2.gz.parquet  \n",
            "  inflating: dane/data_part_4.gz.parquet  \n",
            "  inflating: dane/data_part_7.gz.parquet  \n",
            "  inflating: dane/data_part_5.gz.parquet  \n",
            "  inflating: dane/data_part_9.gz.parquet  \n",
            "  inflating: dane/data_part_3.gz.parquet  \n",
            "  inflating: dane/data_part_6.gz.parquet  \n"
          ]
        }
      ]
    },
    {
      "cell_type": "markdown",
      "source": [
        "Kolumny i ich znaczenie:\n",
        "total_bill (float):\n",
        "\n",
        "1. Całkowity rachunek (w dolarach). tip (float):\n",
        "2. Kwota napiwku (w dolarach). sex (string):\n",
        "3. Płeć osoby, która zapłaciła rachunek (Male lub Female). smoker (string):\n",
        "4. Informacja o tym, czy osoba była palaczem (Yes lub No). day (string):\n",
        "5. Dzień tygodnia, w którym dokonano transakcji (Thur, Fri, Sat, Sun). time (string):\n",
        "6. Porę dnia: Lunch lub Dinner. size (integer):\n",
        "\n",
        "Liczba osób w grupie.\n"
      ],
      "metadata": {
        "id": "uYBj6Iym401z"
      }
    },
    {
      "cell_type": "code",
      "source": [
        "data_path = \"dane/*.parquet\"\n",
        "\n",
        "df = spark.read.parquet(data_path)\n",
        "\n",
        "df.show(3)"
      ],
      "metadata": {
        "colab": {
          "base_uri": "https://localhost:8080/"
        },
        "id": "BO6B_WUd3Apz",
        "outputId": "e574a979-cea2-46c6-d35c-ae87f1238ab4"
      },
      "execution_count": 33,
      "outputs": [
        {
          "output_type": "stream",
          "name": "stdout",
          "text": [
            "+----------+----+------+------+----+------+----+\n",
            "|total_bill| tip|   sex|smoker| day|  time|size|\n",
            "+----------+----+------+------+----+------+----+\n",
            "|     10.24|5.22|  Male|    No| Fri| Lunch|   3|\n",
            "|     11.17|6.78|Female|    No| Fri|Dinner|   5|\n",
            "|     29.01|6.84|Female|    No|Thur| Lunch|   4|\n",
            "+----------+----+------+------+----+------+----+\n",
            "only showing top 3 rows\n",
            "\n"
          ]
        }
      ]
    },
    {
      "cell_type": "markdown",
      "source": [
        "#### **Zadanie 1: Średni rachunek dla każdej pory dnia**\n",
        "Oblicz średni rachunek (`total_bill`) dla posiłków serwowanych w porach dnia `Lunch` i `Dinner`.\n"
      ],
      "metadata": {
        "id": "yNVhi8HQ5JWu"
      }
    },
    {
      "cell_type": "code",
      "source": [
        "df.createOrReplaceTempView(\"tips\")"
      ],
      "metadata": {
        "id": "KT9Uo7Yy6DOd"
      },
      "execution_count": 34,
      "outputs": []
    },
    {
      "cell_type": "code",
      "source": [
        "from pyspark.sql import functions as F"
      ],
      "metadata": {
        "id": "qTFqgerJc4QF"
      },
      "execution_count": 58,
      "outputs": []
    },
    {
      "cell_type": "code",
      "source": [
        "df.groupBy(\"time\").agg(avg(\"total_bill\").alias(\"avg_total_bill\")).orderBy(\"avg_total_bill\", ascending=False).show()"
      ],
      "metadata": {
        "colab": {
          "base_uri": "https://localhost:8080/"
        },
        "id": "iHbayKzH5guv",
        "outputId": "639243d0-9249-4c4f-e66d-4aa2f2cd9b5c"
      },
      "execution_count": 59,
      "outputs": [
        {
          "output_type": "stream",
          "name": "stdout",
          "text": [
            "+------+------------------+\n",
            "|  time|    avg_total_bill|\n",
            "+------+------------------+\n",
            "|Dinner| 20.29296757667226|\n",
            "| Lunch|20.291929660043618|\n",
            "+------+------------------+\n",
            "\n"
          ]
        }
      ]
    },
    {
      "cell_type": "code",
      "source": [
        "spark.sql(\"SELECT time, avg(total_bill) FROM tips GROUP BY time\").show()"
      ],
      "metadata": {
        "colab": {
          "base_uri": "https://localhost:8080/"
        },
        "id": "G07Sz_3NPokc",
        "outputId": "a204b0a0-19b1-4d2a-8b15-a1a9a559d3fc"
      },
      "execution_count": 35,
      "outputs": [
        {
          "output_type": "stream",
          "name": "stdout",
          "text": [
            "+------+------------------+\n",
            "|  time|   avg(total_bill)|\n",
            "+------+------------------+\n",
            "| Lunch|20.291929660043618|\n",
            "|Dinner| 20.29296757667226|\n",
            "+------+------------------+\n",
            "\n"
          ]
        }
      ]
    },
    {
      "cell_type": "markdown",
      "source": [
        "\n",
        "---\n",
        "\n",
        "#### **Zadanie 2: Średni napiwek dla każdej płci**\n",
        "Oblicz średni napiwek (`tip`) dla osób o płci `Male` i `Female`.\n",
        "\n",
        "---"
      ],
      "metadata": {
        "id": "rxHCRu5M5hFj"
      }
    },
    {
      "cell_type": "code",
      "source": [
        "df.groupBy(\"sex\").agg(avg(\"tip\").alias(\"avg_tip\")).orderBy(\"avg_tip\", ascending=False).show()"
      ],
      "metadata": {
        "colab": {
          "base_uri": "https://localhost:8080/"
        },
        "id": "011wc0_85ivV",
        "outputId": "869f188c-a670-4e51-a96a-77cb96f4cdc9"
      },
      "execution_count": 60,
      "outputs": [
        {
          "output_type": "stream",
          "name": "stdout",
          "text": [
            "+------+------------------+\n",
            "|   sex|           avg_tip|\n",
            "+------+------------------+\n",
            "|Female|5.0171324587970965|\n",
            "|  Male| 5.016569841822055|\n",
            "+------+------------------+\n",
            "\n"
          ]
        }
      ]
    },
    {
      "cell_type": "code",
      "source": [
        "spark.sql(\"SELECT sex, avg(tip) FROM tips GROUP BY sex\").show()"
      ],
      "metadata": {
        "colab": {
          "base_uri": "https://localhost:8080/"
        },
        "id": "UV8D0kA5Qchg",
        "outputId": "c8c7525e-6b06-42d7-d07a-6867b4b413b4"
      },
      "execution_count": 36,
      "outputs": [
        {
          "output_type": "stream",
          "name": "stdout",
          "text": [
            "+------+------------------+\n",
            "|   sex|          avg(tip)|\n",
            "+------+------------------+\n",
            "|Female|5.0171324587970965|\n",
            "|  Male| 5.016569841822055|\n",
            "+------+------------------+\n",
            "\n"
          ]
        }
      ]
    },
    {
      "cell_type": "code",
      "source": [],
      "metadata": {
        "id": "baoQTr4oXkpQ"
      },
      "execution_count": null,
      "outputs": []
    },
    {
      "cell_type": "markdown",
      "source": [
        "\n",
        "\n",
        "#### **Zadanie 3: Liczba transakcji w każdym dniu tygodnia**\n",
        "Policz liczbę transakcji (`COUNT(*)`) dla każdego dnia tygodnia (`day`) i posortuj wyniki malejąco według liczby transakcji.\n",
        "\n",
        "---"
      ],
      "metadata": {
        "id": "9WnHHM-s5jGX"
      }
    },
    {
      "cell_type": "code",
      "source": [
        "df.groupBy(\"day\").count().withColumnRenamed(\"count\", \"transaction_count\").orderBy(\"transaction_count\", ascending=False).show()"
      ],
      "metadata": {
        "colab": {
          "base_uri": "https://localhost:8080/"
        },
        "id": "7i4HsZtB5kfq",
        "outputId": "91ecd008-7987-4d9a-d4a5-68c667ab2e3f"
      },
      "execution_count": 61,
      "outputs": [
        {
          "output_type": "stream",
          "name": "stdout",
          "text": [
            "+----+-----------------+\n",
            "| day|transaction_count|\n",
            "+----+-----------------+\n",
            "| Sat|         25012880|\n",
            "| Sun|         24998593|\n",
            "| Fri|         24997616|\n",
            "|Thur|         24990911|\n",
            "+----+-----------------+\n",
            "\n"
          ]
        }
      ]
    },
    {
      "cell_type": "code",
      "source": [
        "spark.sql(\"SELECT day, count(*) as transaction_count FROM tips GROUP BY day ORDER BY transaction_count DESC\").show()"
      ],
      "metadata": {
        "colab": {
          "base_uri": "https://localhost:8080/"
        },
        "id": "huecyphNRd7M",
        "outputId": "59780caf-af13-4486-c6d9-e67fd432168b"
      },
      "execution_count": 37,
      "outputs": [
        {
          "output_type": "stream",
          "name": "stdout",
          "text": [
            "+----+-----------------+\n",
            "| day|transaction_count|\n",
            "+----+-----------------+\n",
            "| Sat|         25012880|\n",
            "| Sun|         24998593|\n",
            "| Fri|         24997616|\n",
            "|Thur|         24990911|\n",
            "+----+-----------------+\n",
            "\n"
          ]
        }
      ]
    },
    {
      "cell_type": "markdown",
      "source": [
        "\n",
        "\n",
        "#### **Zadanie 4: Napiwki w zależności od palenia**\n",
        "Porównaj średni napiwek (`tip`) dla osób palących (`smoker = 'Yes'`) i niepalących (`smoker = 'No'`).\n",
        "\n",
        "---\n"
      ],
      "metadata": {
        "id": "uz5GBwXM5liw"
      }
    },
    {
      "cell_type": "code",
      "source": [
        "df.groupBy(\"smoker\").agg(avg(\"tip\").alias(\"avg_tip\")).orderBy(\"avg_tip\", ascending=False).show()"
      ],
      "metadata": {
        "colab": {
          "base_uri": "https://localhost:8080/"
        },
        "id": "Ka2U4Txr5lE_",
        "outputId": "0e7da3ac-63f5-46ee-f720-feb27bd83888"
      },
      "execution_count": 66,
      "outputs": [
        {
          "output_type": "stream",
          "name": "stdout",
          "text": [
            "+------+-----------------+\n",
            "|smoker|          avg_tip|\n",
            "+------+-----------------+\n",
            "|   Yes|5.017205265844466|\n",
            "|    No|5.016496952168923|\n",
            "+------+-----------------+\n",
            "\n"
          ]
        }
      ]
    },
    {
      "cell_type": "code",
      "source": [
        "spark.sql(\"SELECT smoker, avg(tip) as avg_tip FROM tips GROUP BY smoker\").show()"
      ],
      "metadata": {
        "colab": {
          "base_uri": "https://localhost:8080/"
        },
        "id": "Jes0GpNaRzOS",
        "outputId": "e4bd427f-8277-452e-f7a3-6f7b4d3f2335"
      },
      "execution_count": 38,
      "outputs": [
        {
          "output_type": "stream",
          "name": "stdout",
          "text": [
            "+------+-----------------+\n",
            "|smoker|          avg_tip|\n",
            "+------+-----------------+\n",
            "|    No|5.016496952168923|\n",
            "|   Yes|5.017205265844466|\n",
            "+------+-----------------+\n",
            "\n"
          ]
        }
      ]
    },
    {
      "cell_type": "markdown",
      "source": [
        "\n",
        "#### **Zadanie 5: Średni procent napiwku w zależności od płci**\n",
        "Oblicz średni procent napiwku (`tip / total_bill * 100`) dla `Male` i `Female`.\n",
        "\n",
        "---"
      ],
      "metadata": {
        "id": "sFN6a3P25oXi"
      }
    },
    {
      "cell_type": "code",
      "source": [
        "df.groupBy(\"sex\").agg(avg(col(\"tip\") / col(\"total_bill\") * 100).alias(\"avg_tip_percentage\")).orderBy(\"avg_tip_percentage\", ascending=False).show()"
      ],
      "metadata": {
        "colab": {
          "base_uri": "https://localhost:8080/"
        },
        "id": "foyqZAUq5pzT",
        "outputId": "4ac4bdc3-7b3f-41e8-e8b6-aed98b10394a"
      },
      "execution_count": 65,
      "outputs": [
        {
          "output_type": "stream",
          "name": "stdout",
          "text": [
            "+------+------------------+\n",
            "|   sex|avg_tip_percentage|\n",
            "+------+------------------+\n",
            "|  Male| 33.74454066919119|\n",
            "|Female| 33.74193257449481|\n",
            "+------+------------------+\n",
            "\n"
          ]
        }
      ]
    },
    {
      "cell_type": "code",
      "source": [
        "spark.sql(\"SELECT sex, avg(100 * tip / total_bill) as avg_tip_percentage FROM tips GROUP BY sex\").show()"
      ],
      "metadata": {
        "colab": {
          "base_uri": "https://localhost:8080/"
        },
        "id": "bQTk_BYDSAZ6",
        "outputId": "ea8aa185-3a88-43b7-841b-36c6cbace7dc"
      },
      "execution_count": 39,
      "outputs": [
        {
          "output_type": "stream",
          "name": "stdout",
          "text": [
            "+------+------------------+\n",
            "|   sex|avg_tip_percentage|\n",
            "+------+------------------+\n",
            "|Female| 33.74193257449481|\n",
            "|  Male| 33.74454066919119|\n",
            "+------+------------------+\n",
            "\n"
          ]
        }
      ]
    },
    {
      "cell_type": "markdown",
      "source": [
        "\n",
        "\n",
        "#### **Zadanie 6: Najbardziej dochodowy dzień tygodnia**\n",
        "Znajdź dzień tygodnia (`day`) z najwyższą sumą rachunków (`total_bill`).\n",
        "\n",
        "---\n"
      ],
      "metadata": {
        "id": "WnC-Pjwv5qHi"
      }
    },
    {
      "cell_type": "code",
      "source": [
        "df.groupBy(\"day\").agg(F.sum(\"total_bill\").alias(\"total_revenue\")).orderBy(\"total_revenue\", ascending=False).limit(1).show()"
      ],
      "metadata": {
        "colab": {
          "base_uri": "https://localhost:8080/"
        },
        "id": "W0YY37ho5rOP",
        "outputId": "9e50b361-87f1-41e6-8e5e-6533a5886005"
      },
      "execution_count": 69,
      "outputs": [
        {
          "output_type": "stream",
          "name": "stdout",
          "text": [
            "+---+-------------------+\n",
            "|day|      total_revenue|\n",
            "+---+-------------------+\n",
            "|Sat|5.076083770100002E8|\n",
            "+---+-------------------+\n",
            "\n"
          ]
        }
      ]
    },
    {
      "cell_type": "code",
      "source": [
        "spark.sql(\"SELECT day, sum(total_bill) as total_revenue FROM tips GROUP BY day ORDER BY total_revenue DESC LIMIT 1\").show()"
      ],
      "metadata": {
        "colab": {
          "base_uri": "https://localhost:8080/"
        },
        "id": "dSUxf8MdSVyC",
        "outputId": "6e5a808a-d4e1-4f6a-b6a9-3edbe714d02e"
      },
      "execution_count": 40,
      "outputs": [
        {
          "output_type": "stream",
          "name": "stdout",
          "text": [
            "+---+-------------------+\n",
            "|day|      total_revenue|\n",
            "+---+-------------------+\n",
            "|Sat|5.076083770100002E8|\n",
            "+---+-------------------+\n",
            "\n"
          ]
        }
      ]
    },
    {
      "cell_type": "markdown",
      "source": [
        "\n",
        "#### **Zadanie 7: Transakcje dla dużych grup**\n",
        "Policz liczbę transakcji, gdzie liczba osób (`size`) była większa niż 4, dla każdego dnia tygodnia.\n",
        "\n",
        "---\n"
      ],
      "metadata": {
        "id": "Hq08kp8q5rmI"
      }
    },
    {
      "cell_type": "code",
      "source": [
        "df.filter(df.size > 4).groupBy(\"day\").count().withColumnRenamed(\"count\", \"large_group_transactions\").orderBy(\"large_group_transactions\", ascending=False).show()"
      ],
      "metadata": {
        "colab": {
          "base_uri": "https://localhost:8080/"
        },
        "id": "2S09KNmw5shJ",
        "outputId": "6ef918cc-9908-4948-ab9f-65f146dd0fd9"
      },
      "execution_count": 73,
      "outputs": [
        {
          "output_type": "stream",
          "name": "stdout",
          "text": [
            "+----+------------------------+\n",
            "| day|large_group_transactions|\n",
            "+----+------------------------+\n",
            "| Sat|                 8340277|\n",
            "| Fri|                 8334496|\n",
            "| Sun|                 8331552|\n",
            "|Thur|                 8330339|\n",
            "+----+------------------------+\n",
            "\n"
          ]
        }
      ]
    },
    {
      "cell_type": "code",
      "source": [
        "spark.sql(\"SELECT day, count(*) as large_group_transactions FROM tips WHERE size > 4 GROUP BY day ORDER BY large_group_transactions DESC\").show()"
      ],
      "metadata": {
        "colab": {
          "base_uri": "https://localhost:8080/"
        },
        "id": "10tyfCJ-SnYe",
        "outputId": "1bf9eb69-cf3d-4035-d37e-503a775d746d"
      },
      "execution_count": 43,
      "outputs": [
        {
          "output_type": "stream",
          "name": "stdout",
          "text": [
            "+----+------------------------+\n",
            "| day|large_group_transactions|\n",
            "+----+------------------------+\n",
            "| Sat|                 8340277|\n",
            "| Fri|                 8334496|\n",
            "| Sun|                 8331552|\n",
            "|Thur|                 8330339|\n",
            "+----+------------------------+\n",
            "\n"
          ]
        }
      ]
    },
    {
      "cell_type": "markdown",
      "source": [
        "\n",
        "#### **Zadanie 8: Najhojniejsze grupy**\n",
        "Znajdź 5 największych napiwków (`tip`) w zbiorze danych i podaj ich procent w stosunku do całkowitego rachunku (`tip / total_bill * 100`).\n",
        "\n",
        "---"
      ],
      "metadata": {
        "id": "oSfT_yeb5s5L"
      }
    },
    {
      "cell_type": "code",
      "source": [
        "df.select([\"total_bill\", \"tip\", \"size\"]).withColumn(\"tip_percentage\", (col(\"tip\") / col(\"total_bill\") * 100)).orderBy(\"tip\", ascending=False).limit(5).show()"
      ],
      "metadata": {
        "colab": {
          "base_uri": "https://localhost:8080/"
        },
        "id": "E0cf0CcT5uRI",
        "outputId": "64a4f897-5a64-4239-ca3b-27f47bab2a4e"
      },
      "execution_count": 77,
      "outputs": [
        {
          "output_type": "stream",
          "name": "stdout",
          "text": [
            "+----------+-----+----+-----------------+\n",
            "|total_bill|  tip|size|   tip_percentage|\n",
            "+----------+-----+----+-----------------+\n",
            "|     18.53|15.63|   2| 84.3497031840259|\n",
            "|     25.56|15.57|   3|60.91549295774649|\n",
            "|     37.81|15.54|   1|41.10023803226659|\n",
            "|     28.29|15.53|   3|54.89572287027218|\n",
            "|      35.2|15.48|   3|43.97727272727273|\n",
            "+----------+-----+----+-----------------+\n",
            "\n"
          ]
        }
      ]
    },
    {
      "cell_type": "code",
      "source": [
        "spark.sql(\"SELECT total_bill, tip, size, tip / total_bill * 100 as tip_percentage FROM tips ORDER BY tip DESC LIMIT 5\").show()"
      ],
      "metadata": {
        "colab": {
          "base_uri": "https://localhost:8080/"
        },
        "id": "4HXTTapMTF7g",
        "outputId": "cd5b1c9a-6ed0-443a-9475-cfd6a53d719c"
      },
      "execution_count": 45,
      "outputs": [
        {
          "output_type": "stream",
          "name": "stdout",
          "text": [
            "+----------+-----+----+-----------------+\n",
            "|total_bill|  tip|size|   tip_percentage|\n",
            "+----------+-----+----+-----------------+\n",
            "|     18.53|15.63|   2| 84.3497031840259|\n",
            "|     25.56|15.57|   3|60.91549295774649|\n",
            "|     37.81|15.54|   1|41.10023803226659|\n",
            "|     28.29|15.53|   3|54.89572287027218|\n",
            "|      35.2|15.48|   3|43.97727272727273|\n",
            "+----------+-----+----+-----------------+\n",
            "\n"
          ]
        }
      ]
    },
    {
      "cell_type": "markdown",
      "source": [
        "\n",
        "\n",
        "#### **Zadanie 9: Proporcja rachunków na osoby**\n",
        "Oblicz średni rachunek na osobę (`total_bill / size`) dla każdego dnia tygodnia (`day`).\n",
        "\n",
        "---"
      ],
      "metadata": {
        "id": "UShR80qJ5ukL"
      }
    },
    {
      "cell_type": "code",
      "source": [
        "df.groupBy(\"day\").agg(avg(col(\"total_bill\") / col(\"size\")).alias(\"avg_bill_per_person\")).orderBy(\"avg_bill_per_person\", ascending=False).show()"
      ],
      "metadata": {
        "colab": {
          "base_uri": "https://localhost:8080/"
        },
        "id": "n0Q4-7Iv5vpI",
        "outputId": "80ba20c3-b1eb-4173-838f-4fed38a91c14"
      },
      "execution_count": 79,
      "outputs": [
        {
          "output_type": "stream",
          "name": "stdout",
          "text": [
            "+----+-------------------+\n",
            "| day|avg_bill_per_person|\n",
            "+----+-------------------+\n",
            "| Sun|  8.287338644725219|\n",
            "| Fri|  8.287220061105542|\n",
            "| Sat|  8.285342872632492|\n",
            "|Thur|  8.283478717149496|\n",
            "+----+-------------------+\n",
            "\n"
          ]
        }
      ]
    },
    {
      "cell_type": "code",
      "source": [
        "spark.sql(\"SELECT day, avg(total_bill / size) as avg_bill_per_person FROM tips GROUP BY day\").show()"
      ],
      "metadata": {
        "colab": {
          "base_uri": "https://localhost:8080/"
        },
        "id": "__m-_-3_ThFO",
        "outputId": "35e7a34a-c6e0-412f-f4c0-5239981df97b"
      },
      "execution_count": 46,
      "outputs": [
        {
          "output_type": "stream",
          "name": "stdout",
          "text": [
            "+----+-------------------+\n",
            "| day|avg_bill_per_person|\n",
            "+----+-------------------+\n",
            "|Thur|  8.283478717149496|\n",
            "| Sun|  8.287338644725219|\n",
            "| Sat|  8.285342872632492|\n",
            "| Fri|  8.287220061105542|\n",
            "+----+-------------------+\n",
            "\n"
          ]
        }
      ]
    },
    {
      "cell_type": "markdown",
      "source": [
        "\n",
        "\n",
        "#### **Zadanie 10: Dzień o największym odsetku palaczy**\n",
        "Znajdź dzień tygodnia, w którym występuje największy odsetek transakcji wykonywanych przez osoby palące (`smoker = 'Yes'`).\n",
        "\n",
        "---"
      ],
      "metadata": {
        "id": "n75-xa8N5xL5"
      }
    },
    {
      "cell_type": "code",
      "source": [
        "df.groupBy(\"day\").agg(avg(F.when(col(\"smoker\") == \"Yes\", 1.0).otherwise(0.0)).alias(\"smoker_ratio\")).orderBy(col(\"smoker_ratio\").desc()).limit(1).show()"
      ],
      "metadata": {
        "colab": {
          "base_uri": "https://localhost:8080/"
        },
        "id": "MIn-LS3M5x_o",
        "outputId": "716f44a3-8d23-4163-8c57-9d1934ceef7c"
      },
      "execution_count": 88,
      "outputs": [
        {
          "output_type": "stream",
          "name": "stdout",
          "text": [
            "+----+------------------+\n",
            "| day|      smoker_ratio|\n",
            "+----+------------------+\n",
            "|Thur|0.5001874881631966|\n",
            "+----+------------------+\n",
            "\n"
          ]
        }
      ]
    },
    {
      "cell_type": "code",
      "source": [
        "spark.sql(\"SELECT day, AVG(CASE WHEN smoker = 'Yes' THEN 1.0 ELSE 0.0 END) as smoker_ratio FROM tips GROUP BY day ORDER BY smoker_ratio DESC LIMIT 1\").show()"
      ],
      "metadata": {
        "colab": {
          "base_uri": "https://localhost:8080/"
        },
        "id": "n8qYZTMXTz14",
        "outputId": "9e75ff5c-a768-4f6a-aa90-bf0b84be604c"
      },
      "execution_count": 50,
      "outputs": [
        {
          "output_type": "stream",
          "name": "stdout",
          "text": [
            "+----+------------+\n",
            "| day|smoker_ratio|\n",
            "+----+------------+\n",
            "|Thur|     0.50019|\n",
            "+----+------------+\n",
            "\n"
          ]
        }
      ]
    },
    {
      "cell_type": "markdown",
      "source": [
        "\n",
        "\n",
        "#### **Zadanie 11: Porównanie średnich rachunków dla Lunch i Dinner**\n",
        "Oblicz średnie wartości `total_bill` oraz `tip` dla `Lunch` i `Dinner` i porównaj je między sobą.\n",
        "\n",
        "---"
      ],
      "metadata": {
        "id": "a5pp1BCj5yRM"
      }
    },
    {
      "cell_type": "code",
      "source": [
        "spark.sql(\"SELECT time, AVG(total_bill) as avg_total_bill, AVG(tip) as avg_tip FROM tips GROUP BY time\").show()"
      ],
      "metadata": {
        "id": "QIegf2vM5zDC",
        "colab": {
          "base_uri": "https://localhost:8080/"
        },
        "outputId": "7bb0071c-078a-4f26-f433-bb5d48c8bdb5"
      },
      "execution_count": 51,
      "outputs": [
        {
          "output_type": "stream",
          "name": "stdout",
          "text": [
            "+------+------------------+-----------------+\n",
            "|  time|    avg_total_bill|          avg_tip|\n",
            "+------+------------------+-----------------+\n",
            "| Lunch|20.291929660043618| 5.01692891241368|\n",
            "|Dinner| 20.29296757667226|5.016773372484346|\n",
            "+------+------------------+-----------------+\n",
            "\n"
          ]
        }
      ]
    },
    {
      "cell_type": "code",
      "source": [
        "df.groupBy(\"time\").agg(avg(\"total_bill\").alias(\"avg_total_bill\"), avg(\"tip\").alias(\"avg_tip\")).show()"
      ],
      "metadata": {
        "colab": {
          "base_uri": "https://localhost:8080/"
        },
        "id": "xuJLI7CwjZl1",
        "outputId": "74a9c838-e776-43b9-be23-9ccfaa80959a"
      },
      "execution_count": 83,
      "outputs": [
        {
          "output_type": "stream",
          "name": "stdout",
          "text": [
            "+------+------------------+-----------------+\n",
            "|  time|    avg_total_bill|          avg_tip|\n",
            "+------+------------------+-----------------+\n",
            "| Lunch|20.291929660043618| 5.01692891241368|\n",
            "|Dinner| 20.29296757667226|5.016773372484346|\n",
            "+------+------------------+-----------------+\n",
            "\n"
          ]
        }
      ]
    },
    {
      "cell_type": "markdown",
      "source": [
        "\n",
        "\n",
        "#### **Zadanie 12: Liczba transakcji według rozmiaru grupy**\n",
        "Policz liczbę transakcji dla każdej liczby osób w grupie (`size`).\n",
        "\n",
        "---"
      ],
      "metadata": {
        "id": "1VooAFzQ5zWw"
      }
    },
    {
      "cell_type": "code",
      "source": [
        "spark.sql(\"SELECT size, count(*) as total_transactions FROM tips GROUP BY size ORDER BY total_transactions DESC\").show()"
      ],
      "metadata": {
        "id": "Y3dZHQ2e50AH",
        "colab": {
          "base_uri": "https://localhost:8080/"
        },
        "outputId": "538080fd-e3d0-4a03-b741-f4e7f3dc3bfb"
      },
      "execution_count": 52,
      "outputs": [
        {
          "output_type": "stream",
          "name": "stdout",
          "text": [
            "+----+------------------+\n",
            "|size|total_transactions|\n",
            "+----+------------------+\n",
            "|   3|          16672170|\n",
            "|   6|          16669732|\n",
            "|   5|          16666932|\n",
            "|   4|          16665096|\n",
            "|   2|          16664231|\n",
            "|   1|          16661839|\n",
            "+----+------------------+\n",
            "\n"
          ]
        }
      ]
    },
    {
      "cell_type": "code",
      "source": [
        "df.groupBy(\"size\").count().withColumnRenamed(\"count\", \"total_transactions\").show()"
      ],
      "metadata": {
        "colab": {
          "base_uri": "https://localhost:8080/"
        },
        "id": "2WZLGWZkkhAg",
        "outputId": "02be71ac-60c8-4751-9fb5-e50fa704fa3a"
      },
      "execution_count": 84,
      "outputs": [
        {
          "output_type": "stream",
          "name": "stdout",
          "text": [
            "+----+------------------+\n",
            "|size|total_transactions|\n",
            "+----+------------------+\n",
            "|   6|          16669732|\n",
            "|   5|          16666932|\n",
            "|   1|          16661839|\n",
            "|   3|          16672170|\n",
            "|   2|          16664231|\n",
            "|   4|          16665096|\n",
            "+----+------------------+\n",
            "\n"
          ]
        }
      ]
    },
    {
      "cell_type": "markdown",
      "source": [
        "\n",
        "\n",
        "#### **Zadanie 13: Eksport dużych transakcji**\n",
        "Wyeksportuj dane o transakcjach, gdzie `total_bill > 50`, do pliku CSV.\n",
        "\n",
        "---"
      ],
      "metadata": {
        "id": "ZGfuiKsX50S4"
      }
    },
    {
      "cell_type": "code",
      "source": [
        "spark.sql(\"SELECT * FROM tips WHERE total_bill > 50\").write.mode(\"overwrite\").csv(\"transactionsOver50\", header=True)"
      ],
      "metadata": {
        "id": "4ZyZOsaL506n"
      },
      "execution_count": 54,
      "outputs": []
    },
    {
      "cell_type": "code",
      "source": [
        "df.filter(df.total_bill >= 50).write.mode(\"overwrite\").csv(\"transactions_over_50\", header=True)"
      ],
      "metadata": {
        "id": "PjOrggXPcUsv"
      },
      "execution_count": 56,
      "outputs": []
    },
    {
      "cell_type": "markdown",
      "source": [
        "\n",
        "\n",
        "#### **Zadanie 14: Największe napiwki dla każdej pory dnia**\n",
        "Znajdź największy napiwek (`tip`) w porze dnia `Lunch` i `Dinner`.\n",
        "\n",
        "---\n"
      ],
      "metadata": {
        "id": "B6yGe8ua51So"
      }
    },
    {
      "cell_type": "code",
      "source": [
        "spark.sql(\"SELECT time, MAX(tip) as max_tip FROM tips GROUP BY time\").show()"
      ],
      "metadata": {
        "colab": {
          "base_uri": "https://localhost:8080/"
        },
        "id": "Knekm0Kf514J",
        "outputId": "cf4110f1-376b-47c7-c752-38cda7be13cc"
      },
      "execution_count": 53,
      "outputs": [
        {
          "output_type": "stream",
          "name": "stdout",
          "text": [
            "+------+-------+\n",
            "|  time|max_tip|\n",
            "+------+-------+\n",
            "| Lunch|  15.57|\n",
            "|Dinner|  15.63|\n",
            "+------+-------+\n",
            "\n"
          ]
        }
      ]
    },
    {
      "cell_type": "code",
      "source": [
        "df.groupBy(\"time\").agg(F.max(\"tip\").alias(\"max_tip\")).show()"
      ],
      "metadata": {
        "colab": {
          "base_uri": "https://localhost:8080/"
        },
        "id": "gudwUQh2csNq",
        "outputId": "b3936604-5809-4b00-f833-5e1f8c61573b"
      },
      "execution_count": 85,
      "outputs": [
        {
          "output_type": "stream",
          "name": "stdout",
          "text": [
            "+------+-------+\n",
            "|  time|max_tip|\n",
            "+------+-------+\n",
            "| Lunch|  15.57|\n",
            "|Dinner|  15.63|\n",
            "+------+-------+\n",
            "\n"
          ]
        }
      ]
    }
  ]
}