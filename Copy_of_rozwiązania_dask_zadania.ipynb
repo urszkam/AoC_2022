{
  "metadata": {
    "kernelspec": {
      "language": "python",
      "display_name": "Python 3",
      "name": "python3"
    },
    "language_info": {
      "name": "python",
      "version": "3.10.12",
      "mimetype": "text/x-python",
      "codemirror_mode": {
        "name": "ipython",
        "version": 3
      },
      "pygments_lexer": "ipython3",
      "nbconvert_exporter": "python",
      "file_extension": ".py"
    },
    "kaggle": {
      "accelerator": "none",
      "dataSources": [],
      "dockerImageVersionId": 30839,
      "isInternetEnabled": true,
      "language": "python",
      "sourceType": "notebook",
      "isGpuEnabled": false
    },
    "colab": {
      "provenance": [],
      "include_colab_link": true
    }
  },
  "nbformat_minor": 0,
  "nbformat": 4,
  "cells": [
    {
      "cell_type": "markdown",
      "metadata": {
        "id": "view-in-github",
        "colab_type": "text"
      },
      "source": [
        "<a href=\"https://colab.research.google.com/github/urszkam/AoC_2022/blob/main/Copy_of_rozwi%C4%85zania_dask_zadania.ipynb\" target=\"_parent\"><img src=\"https://colab.research.google.com/assets/colab-badge.svg\" alt=\"Open In Colab\"/></a>"
      ]
    },
    {
      "cell_type": "code",
      "source": [
        "!wget https://students.mimuw.edu.pl/~mw404851/dane.zip"
      ],
      "metadata": {
        "_uuid": "8f2839f25d086af736a60e9eeb907d3b93b6e0e5",
        "_cell_guid": "b1076dfc-b9ad-4769-8c92-a6c4dae69d19",
        "trusted": true,
        "execution": {
          "iopub.status.busy": "2025-06-19T17:11:11.539224Z",
          "iopub.execute_input": "2025-06-19T17:11:11.53962Z",
          "iopub.status.idle": "2025-06-19T17:11:25.795471Z",
          "shell.execute_reply.started": "2025-06-19T17:11:11.539589Z",
          "shell.execute_reply": "2025-06-19T17:11:25.794094Z"
        },
        "id": "8AdO-CV2jUop"
      },
      "outputs": [],
      "execution_count": null
    },
    {
      "cell_type": "code",
      "source": [
        "!mkdir dane && unzip dane.zip -d dane"
      ],
      "metadata": {
        "trusted": true,
        "execution": {
          "iopub.status.busy": "2025-06-19T17:11:25.796981Z",
          "iopub.execute_input": "2025-06-19T17:11:25.797346Z",
          "iopub.status.idle": "2025-06-19T17:11:25.939091Z",
          "shell.execute_reply.started": "2025-06-19T17:11:25.797315Z",
          "shell.execute_reply": "2025-06-19T17:11:25.937811Z"
        },
        "id": "aiBR81IxjUoq"
      },
      "outputs": [],
      "execution_count": null
    },
    {
      "cell_type": "code",
      "source": [
        "import dask.dataframe as dd\n",
        "\n",
        "df = dd.read_parquet(f\"dane/data_part_*.gz.parquet\", engine='pyarrow')"
      ],
      "metadata": {
        "trusted": true,
        "execution": {
          "iopub.status.busy": "2025-06-19T17:11:25.941068Z",
          "iopub.execute_input": "2025-06-19T17:11:25.941369Z",
          "iopub.status.idle": "2025-06-19T17:11:30.933454Z",
          "shell.execute_reply.started": "2025-06-19T17:11:25.941342Z",
          "shell.execute_reply": "2025-06-19T17:11:30.932489Z"
        },
        "id": "o4jLG8t7jUoq"
      },
      "outputs": [],
      "execution_count": null
    },
    {
      "cell_type": "code",
      "source": [
        "df.head()"
      ],
      "metadata": {
        "trusted": true,
        "execution": {
          "iopub.status.busy": "2025-06-19T17:11:30.934943Z",
          "iopub.execute_input": "2025-06-19T17:11:30.935589Z",
          "iopub.status.idle": "2025-06-19T17:11:34.59422Z",
          "shell.execute_reply.started": "2025-06-19T17:11:30.935548Z",
          "shell.execute_reply": "2025-06-19T17:11:34.593034Z"
        },
        "id": "wY_aNTa8jUoq"
      },
      "outputs": [],
      "execution_count": null
    },
    {
      "cell_type": "code",
      "source": [
        "df.columns"
      ],
      "metadata": {
        "trusted": true,
        "execution": {
          "iopub.status.busy": "2025-06-19T17:11:34.595266Z",
          "iopub.execute_input": "2025-06-19T17:11:34.595869Z",
          "iopub.status.idle": "2025-06-19T17:11:34.602781Z",
          "shell.execute_reply.started": "2025-06-19T17:11:34.595808Z",
          "shell.execute_reply": "2025-06-19T17:11:34.601608Z"
        },
        "id": "q2fMnijxjUor"
      },
      "outputs": [],
      "execution_count": null
    },
    {
      "cell_type": "code",
      "source": [
        "df.info()"
      ],
      "metadata": {
        "trusted": true,
        "execution": {
          "iopub.status.busy": "2025-06-19T17:11:34.604111Z",
          "iopub.execute_input": "2025-06-19T17:11:34.604545Z",
          "iopub.status.idle": "2025-06-19T17:11:34.633748Z",
          "shell.execute_reply.started": "2025-06-19T17:11:34.604493Z",
          "shell.execute_reply": "2025-06-19T17:11:34.632514Z"
        },
        "id": "5QRcCD90jUor"
      },
      "outputs": [],
      "execution_count": null
    },
    {
      "cell_type": "markdown",
      "source": [
        "Na podstawie treści prezentacji dotyczącej Dask, oto kilka zadań praktycznych, które mogą pomóc w zrozumieniu jego funkcji i możliwości:\n",
        "\n",
        "---\n",
        "\n",
        "### **Zadanie 1: Wczytywanie danych i partycjonowanie**\n",
        "1. Wczytaj zbiór danych z pliku **Parquet** (lub CSV, jeśli nie masz Parquet) do Dask DataFrame.\n",
        "2. Sprawdź liczbę partycji w swoim DataFrame.\n",
        "3. Zoptymalizuj liczbę partycji, dopasowując je do zasobów systemowych (np. ustaw 5 partycji) używajac repartiton.\n"
      ],
      "metadata": {
        "id": "7DoV7hfHjUor"
      }
    },
    {
      "cell_type": "code",
      "source": [
        "df"
      ],
      "metadata": {
        "trusted": true,
        "execution": {
          "iopub.status.busy": "2025-06-19T17:11:34.634932Z",
          "iopub.execute_input": "2025-06-19T17:11:34.635345Z",
          "iopub.status.idle": "2025-06-19T17:11:34.671464Z",
          "shell.execute_reply.started": "2025-06-19T17:11:34.635298Z",
          "shell.execute_reply": "2025-06-19T17:11:34.670347Z"
        },
        "id": "Ilt21kx3jUor"
      },
      "outputs": [],
      "execution_count": null
    },
    {
      "cell_type": "code",
      "source": [
        "df.tail()"
      ],
      "metadata": {
        "trusted": true,
        "execution": {
          "iopub.status.busy": "2025-06-19T17:11:34.674989Z",
          "iopub.execute_input": "2025-06-19T17:11:34.675365Z",
          "iopub.status.idle": "2025-06-19T17:11:37.291628Z",
          "shell.execute_reply.started": "2025-06-19T17:11:34.675322Z",
          "shell.execute_reply": "2025-06-19T17:11:37.290494Z"
        },
        "id": "K0JMMaiqjUor"
      },
      "outputs": [],
      "execution_count": null
    },
    {
      "cell_type": "code",
      "source": [
        "df = df.repartition(npartitions=5)\n",
        "df"
      ],
      "metadata": {
        "trusted": true,
        "execution": {
          "iopub.status.busy": "2025-06-19T17:11:37.2939Z",
          "iopub.execute_input": "2025-06-19T17:11:37.294287Z",
          "iopub.status.idle": "2025-06-19T17:11:37.31269Z",
          "shell.execute_reply.started": "2025-06-19T17:11:37.294257Z",
          "shell.execute_reply": "2025-06-19T17:11:37.311633Z"
        },
        "id": "sNDMwfJajUos"
      },
      "outputs": [],
      "execution_count": null
    },
    {
      "cell_type": "markdown",
      "source": [
        "\n",
        "\n",
        "### **Zadanie 2: Operacje na partycjach**\n",
        "1. Użyj metody `map_partitions`, aby obliczyć liczbę wierszy w każdej partycji.\n",
        "2. Zsumuj wszystkie wartości w kolumnie `tip` z każdej partycji za pomocą `reduce`.\n",
        "\n",
        "**Cel:** Nauka operacji map-reduce w Dask.\n",
        "\n",
        "---"
      ],
      "metadata": {
        "id": "oqOSkMk0jUos"
      }
    },
    {
      "cell_type": "code",
      "source": [
        "rows_per_partition = df.map_partitions(len).compute()\n",
        "rows_per_partition"
      ],
      "metadata": {
        "trusted": true,
        "execution": {
          "iopub.status.busy": "2025-06-19T17:11:37.313885Z",
          "iopub.execute_input": "2025-06-19T17:11:37.314288Z",
          "iopub.status.idle": "2025-06-19T17:11:49.745503Z",
          "shell.execute_reply.started": "2025-06-19T17:11:37.314248Z",
          "shell.execute_reply": "2025-06-19T17:11:49.744525Z"
        },
        "id": "R837YwCBjUos"
      },
      "outputs": [],
      "execution_count": null
    },
    {
      "cell_type": "code",
      "source": [
        "result = df['total_bill'].sum().compute()\n",
        "result"
      ],
      "metadata": {
        "trusted": true,
        "execution": {
          "iopub.status.busy": "2025-06-19T17:11:49.746486Z",
          "iopub.execute_input": "2025-06-19T17:11:49.746759Z",
          "iopub.status.idle": "2025-06-19T17:11:51.893888Z",
          "shell.execute_reply.started": "2025-06-19T17:11:49.746735Z",
          "shell.execute_reply": "2025-06-19T17:11:51.892758Z"
        },
        "id": "4SZ8WCywjUos"
      },
      "outputs": [],
      "execution_count": null
    },
    {
      "cell_type": "code",
      "source": [
        "rows_per_partition = df.map_partitions(len).compute()\n",
        "rows_per_partition"
      ],
      "metadata": {
        "trusted": true,
        "execution": {
          "iopub.status.busy": "2025-06-19T17:11:51.894944Z",
          "iopub.execute_input": "2025-06-19T17:11:51.895311Z",
          "iopub.status.idle": "2025-06-19T17:12:03.794962Z",
          "shell.execute_reply.started": "2025-06-19T17:11:51.895281Z",
          "shell.execute_reply": "2025-06-19T17:12:03.793924Z"
        },
        "id": "MOUnysMpjUos"
      },
      "outputs": [],
      "execution_count": null
    },
    {
      "cell_type": "markdown",
      "source": [
        "\n",
        "\n",
        "### **Zadanie 3: Filtrowanie i grupowanie**\n",
        "1. Wczytaj dane dotyczące napiwków (`tips`).\n",
        "2. Przefiltruj dane, pozostawiając tylko wiersze, w których `time` to `'Dinner'`.\n",
        "3. Użyj `groupby`, aby obliczyć średnią wartości `total_bill` dla każdej wartości `day`.\n",
        "\n",
        "**Cel:** Poznanie podstawowych operacji na danych w Dask.\n",
        "\n",
        "---"
      ],
      "metadata": {
        "id": "ZsCW8WOAjUos"
      }
    },
    {
      "cell_type": "code",
      "source": [
        "df[df['time']=='Dinner'].compute()"
      ],
      "metadata": {
        "trusted": true,
        "execution": {
          "iopub.status.busy": "2025-06-19T17:12:03.796088Z",
          "iopub.execute_input": "2025-06-19T17:12:03.796369Z",
          "iopub.status.idle": "2025-06-19T17:12:22.700188Z",
          "shell.execute_reply.started": "2025-06-19T17:12:03.796344Z",
          "shell.execute_reply": "2025-06-19T17:12:22.699127Z"
        },
        "id": "Lp2G8_TXjUos"
      },
      "outputs": [],
      "execution_count": null
    },
    {
      "cell_type": "code",
      "source": [
        "df[df['tip']]"
      ],
      "metadata": {
        "trusted": true,
        "execution": {
          "iopub.status.busy": "2025-06-19T17:12:22.701112Z",
          "iopub.execute_input": "2025-06-19T17:12:22.701383Z",
          "iopub.status.idle": "2025-06-19T17:12:22.714085Z",
          "shell.execute_reply.started": "2025-06-19T17:12:22.701359Z",
          "shell.execute_reply": "2025-06-19T17:12:22.712956Z"
        },
        "id": "xyuUsV3WjUos"
      },
      "outputs": [],
      "execution_count": null
    },
    {
      "cell_type": "code",
      "source": [
        "df.groupby('day').total_bill.mean().compute()"
      ],
      "metadata": {
        "trusted": true,
        "execution": {
          "iopub.status.busy": "2025-06-19T17:12:22.715134Z",
          "iopub.execute_input": "2025-06-19T17:12:22.71554Z",
          "iopub.status.idle": "2025-06-19T17:12:28.965714Z",
          "shell.execute_reply.started": "2025-06-19T17:12:22.715501Z",
          "shell.execute_reply": "2025-06-19T17:12:28.96463Z"
        },
        "id": "v60VR_9YjUos"
      },
      "outputs": [],
      "execution_count": null
    },
    {
      "cell_type": "markdown",
      "source": [
        "\n",
        "\n",
        "### **Zadanie 4: Lazy Evaluation**\n",
        "1. Utwórz operację obliczającą sumę kolumny `total_bill`, ale nie wykonuj jej natychmiast (lazy evaluation).\n",
        "2. Zwizualizuj graf obliczeń za pomocą metody `visualize`.\n",
        "\n",
        "\n",
        "---"
      ],
      "metadata": {
        "id": "0b5RdEOPjUos"
      }
    },
    {
      "cell_type": "code",
      "source": [
        "result = df['total_bill'].sum().visualize()\n",
        "result"
      ],
      "metadata": {
        "trusted": true,
        "execution": {
          "iopub.status.busy": "2025-06-19T17:12:28.966926Z",
          "iopub.execute_input": "2025-06-19T17:12:28.9673Z",
          "iopub.status.idle": "2025-06-19T17:12:29.462711Z",
          "shell.execute_reply.started": "2025-06-19T17:12:28.967265Z",
          "shell.execute_reply": "2025-06-19T17:12:29.461414Z"
        },
        "id": "EKbXimnMjUos"
      },
      "outputs": [],
      "execution_count": null
    },
    {
      "cell_type": "markdown",
      "source": [
        "### **Zadanie 5: Wizualizacja danych**\n",
        "Oblicz średnią wartość rachunku (total_bill) dla każdej kategorii rozmiaru grupy (size) i przedstaw wynik na wykresie słupkowym."
      ],
      "metadata": {
        "id": "Nc5rsYBUjUot"
      }
    },
    {
      "cell_type": "code",
      "source": [
        "avg_total_bill_by_size = df.groupby('size')['total_bill'].mean().compute()\n",
        "avg_total_bill_by_size"
      ],
      "metadata": {
        "trusted": true,
        "execution": {
          "iopub.status.busy": "2025-06-19T17:12:29.463961Z",
          "iopub.execute_input": "2025-06-19T17:12:29.4644Z",
          "iopub.status.idle": "2025-06-19T17:12:33.954766Z",
          "shell.execute_reply.started": "2025-06-19T17:12:29.464359Z",
          "shell.execute_reply": "2025-06-19T17:12:33.953817Z"
        },
        "id": "ypQCxG-UjUot"
      },
      "outputs": [],
      "execution_count": null
    },
    {
      "cell_type": "code",
      "source": [
        "import matplotlib.pyplot as plt\n",
        "avg_total_bill_by_size = df.groupby('size')['total_bill'].mean().compute()\n",
        "\n",
        "avg_total_bill_by_size.plot(kind='bar')\n",
        "plt.xlabel('Rozmiar grupy (size)')\n",
        "plt.ylabel('Średnia wartość rachunku (total_bill)')\n",
        "plt.title('Średnia wartość rachunku w zależności od rozmiaru grupy')\n",
        "plt.xticks(rotation=0)\n",
        "plt.show()"
      ],
      "metadata": {
        "trusted": true,
        "execution": {
          "iopub.status.busy": "2025-06-19T17:12:33.95599Z",
          "iopub.execute_input": "2025-06-19T17:12:33.956319Z",
          "iopub.status.idle": "2025-06-19T17:12:38.356821Z",
          "shell.execute_reply.started": "2025-06-19T17:12:33.956291Z",
          "shell.execute_reply": "2025-06-19T17:12:38.355606Z"
        },
        "id": "C5VzxMR-jUot"
      },
      "outputs": [],
      "execution_count": null
    },
    {
      "cell_type": "markdown",
      "source": [
        "### Zadanie 6: Tworzenie nowych kolumn\n",
        "1. Dodaj nową kolumnę tip_percentage, która oblicza procent napiwku w stosunku do rachunku (tip / total_bill * 100).\n",
        "2. Policz średni procent napiwku dla każdej kombinacji płci (sex) i dnia tygodnia (day)."
      ],
      "metadata": {
        "id": "wNPixXjBjUot"
      }
    },
    {
      "cell_type": "code",
      "source": [
        "df['tip_percentage'] = (df['tip'] / df['total_bill']) * 100\n",
        "df['tip_percentage'].compute()"
      ],
      "metadata": {
        "trusted": true,
        "execution": {
          "iopub.status.busy": "2025-06-19T17:12:38.35804Z",
          "iopub.execute_input": "2025-06-19T17:12:38.358372Z",
          "iopub.status.idle": "2025-06-19T17:12:42.24348Z",
          "shell.execute_reply.started": "2025-06-19T17:12:38.358343Z",
          "shell.execute_reply": "2025-06-19T17:12:42.242515Z"
        },
        "id": "VFCKIhzhjUot"
      },
      "outputs": [],
      "execution_count": null
    },
    {
      "cell_type": "code",
      "source": [
        "# Policz średni procent napiwku\n",
        "# dla każdej kombinacji płci (sex) i dnia tygodnia (day).\n",
        "\n",
        "avg_tip_sex = df.groupby('sex')['tip_percentage'].mean().compute()\n",
        "avg_tip_sex"
      ],
      "metadata": {
        "trusted": true,
        "execution": {
          "iopub.status.busy": "2025-06-19T17:12:42.244426Z",
          "iopub.execute_input": "2025-06-19T17:12:42.244734Z",
          "iopub.status.idle": "2025-06-19T17:12:51.381583Z",
          "shell.execute_reply.started": "2025-06-19T17:12:42.244698Z",
          "shell.execute_reply": "2025-06-19T17:12:51.380557Z"
        },
        "id": "Dd_HrKnDjUot"
      },
      "outputs": [],
      "execution_count": null
    },
    {
      "cell_type": "code",
      "source": [
        "avg_tip_day = df.groupby('day')['tip_percentage'].mean().compute()\n",
        "avg_tip_day"
      ],
      "metadata": {
        "trusted": true,
        "execution": {
          "iopub.status.busy": "2025-06-19T17:12:51.382623Z",
          "iopub.execute_input": "2025-06-19T17:12:51.382911Z",
          "iopub.status.idle": "2025-06-19T17:13:00.594267Z",
          "shell.execute_reply.started": "2025-06-19T17:12:51.382886Z",
          "shell.execute_reply": "2025-06-19T17:13:00.592966Z"
        },
        "id": "W6P4NDGYjUot"
      },
      "outputs": [],
      "execution_count": null
    },
    {
      "cell_type": "markdown",
      "source": [
        "### average_bill_by_day_dask = {}  Zadanie: Praca z Dummy Variables w Dask\n",
        "1. Utwórz zmienne dummy dla kolumny day (dzień tygodnia) w zbiorze tips.\n",
        "2. Połącz je z oryginalnym zestawem danych.\n",
        "3. Oblicz średni rachunek (total_bill) dla każdego dnia tygodnia, korzystając z wygenerowanych zmiennych dummy."
      ],
      "metadata": {
        "id": "b1JK9GzfjUot"
      }
    },
    {
      "cell_type": "code",
      "source": [
        "df['day'].unique().compute()"
      ],
      "metadata": {
        "trusted": true,
        "execution": {
          "iopub.status.busy": "2025-06-19T17:13:00.595363Z",
          "iopub.execute_input": "2025-06-19T17:13:00.595665Z",
          "iopub.status.idle": "2025-06-19T17:13:04.386542Z",
          "shell.execute_reply.started": "2025-06-19T17:13:00.595638Z",
          "shell.execute_reply": "2025-06-19T17:13:04.385529Z"
        },
        "id": "MMXK6yNJjUot"
      },
      "outputs": [],
      "execution_count": null
    },
    {
      "cell_type": "code",
      "source": [
        "df = df.categorize().compute()\n",
        "df.head()"
      ],
      "metadata": {
        "trusted": true,
        "execution": {
          "iopub.status.busy": "2025-06-19T17:13:04.390138Z",
          "iopub.execute_input": "2025-06-19T17:13:04.390417Z",
          "iopub.status.idle": "2025-06-19T17:15:06.197139Z",
          "shell.execute_reply.started": "2025-06-19T17:13:04.390394Z",
          "shell.execute_reply": "2025-06-19T17:15:06.195821Z"
        },
        "id": "HxNrYKCGjUot"
      },
      "outputs": [],
      "execution_count": null
    },
    {
      "cell_type": "code",
      "source": [
        "# Tworzenie zmiennych dummy\n",
        "day_dummies = dd.get_dummies(df['day'], prefix='day')\n",
        "\n",
        "df_with_dummies = dd.concat([df, day_dummies], axis=1)\n",
        "df_with_dummies.head()\n",
        "\n",
        "# Średni rachunek na podstawie dummy variables\n",
        "mean_total_bill_by_day = {}\n",
        "for day in day_dummies.columns:\n",
        "    mean = ((df_with_dummies['total_bill'] * df_with_dummies[day]).sum() / df_with_dummies[day].sum()).compute()\n",
        "    mean_total_bill_by_day[day] = mean\n",
        "\n",
        "print(\"Średni total_bill dla każdego dnia (dummy):\")\n",
        "for day, mean in mean_total_bill_by_day.items():\n",
        "    print(f\"{day}: {mean}\")\n",
        "\n",
        "\n"
      ],
      "metadata": {
        "trusted": true,
        "execution": {
          "iopub.status.busy": "2025-06-19T17:15:06.198701Z",
          "iopub.execute_input": "2025-06-19T17:15:06.199145Z",
          "iopub.status.idle": "2025-06-19T17:18:15.93084Z",
          "shell.execute_reply.started": "2025-06-19T17:15:06.199099Z",
          "shell.execute_reply": "2025-06-19T17:18:15.929178Z"
        },
        "id": "uSBeIXH0jUot"
      },
      "outputs": [],
      "execution_count": null
    },
    {
      "cell_type": "code",
      "source": [
        "df_with_dummies.head()"
      ],
      "metadata": {
        "trusted": true,
        "execution": {
          "iopub.status.busy": "2025-06-19T17:18:15.935163Z",
          "iopub.execute_input": "2025-06-19T17:18:15.935539Z",
          "iopub.status.idle": "2025-06-19T17:18:18.219382Z",
          "shell.execute_reply.started": "2025-06-19T17:18:15.935505Z",
          "shell.execute_reply": "2025-06-19T17:18:18.218259Z"
        },
        "id": "4P__cjRzjUot"
      },
      "outputs": [],
      "execution_count": null
    },
    {
      "cell_type": "code",
      "source": [
        "# Verify against the previous groupby result\n",
        "print(\"\\nVerification using direct groupby:\")\n",
        "print(df.groupby('day').total_bill.mean())"
      ],
      "metadata": {
        "trusted": true,
        "execution": {
          "iopub.status.busy": "2025-06-19T17:18:18.22045Z",
          "iopub.execute_input": "2025-06-19T17:18:18.220745Z",
          "iopub.status.idle": "2025-06-19T17:18:19.328938Z",
          "shell.execute_reply.started": "2025-06-19T17:18:18.220719Z",
          "shell.execute_reply": "2025-06-19T17:18:19.327883Z"
        },
        "id": "Vob17lVEjUot"
      },
      "outputs": [],
      "execution_count": null
    }
  ]
}