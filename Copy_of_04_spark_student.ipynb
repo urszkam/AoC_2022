{
  "nbformat": 4,
  "nbformat_minor": 0,
  "metadata": {
    "colab": {
      "provenance": [],
      "include_colab_link": true
    },
    "kernelspec": {
      "name": "python3",
      "display_name": "Python 3"
    },
    "language_info": {
      "name": "python"
    }
  },
  "cells": [
    {
      "cell_type": "markdown",
      "metadata": {
        "id": "view-in-github",
        "colab_type": "text"
      },
      "source": [
        "<a href=\"https://colab.research.google.com/github/urszkam/AoC_2022/blob/main/Copy_of_04_spark_student.ipynb\" target=\"_parent\"><img src=\"https://colab.research.google.com/assets/colab-badge.svg\" alt=\"Open In Colab\"/></a>"
      ]
    },
    {
      "cell_type": "code",
      "execution_count": 2,
      "metadata": {
        "id": "MKtvUWXBdCab",
        "colab": {
          "base_uri": "https://localhost:8080/"
        },
        "outputId": "0c98fc4b-f6fa-437b-a150-e06b68adad8c"
      },
      "outputs": [
        {
          "output_type": "stream",
          "name": "stdout",
          "text": [
            "Using Colab cache for faster access to the 'us-accidents' dataset.\n",
            "/kaggle/input/us-accidents\n"
          ]
        }
      ],
      "source": [
        "import kagglehub\n",
        "\n",
        "path = kagglehub.dataset_download(\"sobhanmoosavi/us-accidents\")\n",
        "print(path)"
      ]
    },
    {
      "cell_type": "code",
      "source": [
        "!cp -R /root/.cache/kagglehub/datasets/sobhanmoosavi/us-accidents/versions/13/US_Accidents_March23.csv /content/sample_data/US_Accidents_March23.csv\n"
      ],
      "metadata": {
        "id": "8oscXFjMdaDr",
        "colab": {
          "base_uri": "https://localhost:8080/"
        },
        "outputId": "8fecd75c-e902-440f-8cbc-29cac922c67c"
      },
      "execution_count": 3,
      "outputs": [
        {
          "output_type": "stream",
          "name": "stdout",
          "text": [
            "cp: cannot stat '/root/.cache/kagglehub/datasets/sobhanmoosavi/us-accidents/versions/13/US_Accidents_March23.csv': No such file or directory\n"
          ]
        }
      ]
    },
    {
      "cell_type": "code",
      "source": [
        "from pyspark.sql import SparkSession\n",
        "spark = SparkSession.builder \\\n",
        "                    .master(\"local[*]\") \\\n",
        "                    .config(\"spark.executor.memory\", \"8g\") \\\n",
        "                    .config(\"spark.driver.memory\", \"4g\") \\\n",
        "                    .appName(\"mlibs\") \\\n",
        "                    .getOrCreate()\n",
        "\n",
        "inDF = spark.read.format(\"csv\") \\\n",
        "  .option(\"sep\", \",\") \\\n",
        "  .option(\"inferSchema\", \"true\") \\\n",
        "  .option(\"header\", \"true\") \\\n",
        "  .load(path + \"/US_Accidents_March23.csv\")\n",
        "\n",
        "inDF.printSchema()\n",
        "\n",
        "inDF.createOrReplaceTempView(\"accidents\")"
      ],
      "metadata": {
        "id": "n-GHFWbLdbv7",
        "colab": {
          "base_uri": "https://localhost:8080/"
        },
        "outputId": "7d143ae4-a1dc-4e82-f8de-2302834d6926"
      },
      "execution_count": 4,
      "outputs": [
        {
          "output_type": "stream",
          "name": "stdout",
          "text": [
            "root\n",
            " |-- ID: string (nullable = true)\n",
            " |-- Source: string (nullable = true)\n",
            " |-- Severity: integer (nullable = true)\n",
            " |-- Start_Time: timestamp (nullable = true)\n",
            " |-- End_Time: timestamp (nullable = true)\n",
            " |-- Start_Lat: double (nullable = true)\n",
            " |-- Start_Lng: double (nullable = true)\n",
            " |-- End_Lat: double (nullable = true)\n",
            " |-- End_Lng: double (nullable = true)\n",
            " |-- Distance(mi): double (nullable = true)\n",
            " |-- Description: string (nullable = true)\n",
            " |-- Street: string (nullable = true)\n",
            " |-- City: string (nullable = true)\n",
            " |-- County: string (nullable = true)\n",
            " |-- State: string (nullable = true)\n",
            " |-- Zipcode: string (nullable = true)\n",
            " |-- Country: string (nullable = true)\n",
            " |-- Timezone: string (nullable = true)\n",
            " |-- Airport_Code: string (nullable = true)\n",
            " |-- Weather_Timestamp: timestamp (nullable = true)\n",
            " |-- Temperature(F): double (nullable = true)\n",
            " |-- Wind_Chill(F): double (nullable = true)\n",
            " |-- Humidity(%): double (nullable = true)\n",
            " |-- Pressure(in): double (nullable = true)\n",
            " |-- Visibility(mi): double (nullable = true)\n",
            " |-- Wind_Direction: string (nullable = true)\n",
            " |-- Wind_Speed(mph): double (nullable = true)\n",
            " |-- Precipitation(in): double (nullable = true)\n",
            " |-- Weather_Condition: string (nullable = true)\n",
            " |-- Amenity: boolean (nullable = true)\n",
            " |-- Bump: boolean (nullable = true)\n",
            " |-- Crossing: boolean (nullable = true)\n",
            " |-- Give_Way: boolean (nullable = true)\n",
            " |-- Junction: boolean (nullable = true)\n",
            " |-- No_Exit: boolean (nullable = true)\n",
            " |-- Railway: boolean (nullable = true)\n",
            " |-- Roundabout: boolean (nullable = true)\n",
            " |-- Station: boolean (nullable = true)\n",
            " |-- Stop: boolean (nullable = true)\n",
            " |-- Traffic_Calming: boolean (nullable = true)\n",
            " |-- Traffic_Signal: boolean (nullable = true)\n",
            " |-- Turning_Loop: boolean (nullable = true)\n",
            " |-- Sunrise_Sunset: string (nullable = true)\n",
            " |-- Civil_Twilight: string (nullable = true)\n",
            " |-- Nautical_Twilight: string (nullable = true)\n",
            " |-- Astronomical_Twilight: string (nullable = true)\n",
            "\n"
          ]
        }
      ]
    },
    {
      "cell_type": "code",
      "source": [
        "from datetime import datetime\n",
        "from pyspark.storagelevel import StorageLevel\n"
      ],
      "metadata": {
        "id": "p9CP2Q7WlXM7"
      },
      "execution_count": 24,
      "outputs": []
    },
    {
      "cell_type": "markdown",
      "source": [
        "##  **Zadania praktyczne z użyciem `cache()` – PySpark**\n",
        "\n",
        "---\n",
        "\n",
        "### **Zadanie 1: Filtrowanie i cache warunków pogodowych**\n",
        "\n",
        "**Cel:** Przefiltruj dane do wypadków z niepustym polem `Weather_Condition` i cache’uj wynik.\n",
        "\n",
        "\n",
        "Pytanie: Jakie są 3 najczęstsze warunki pogodowe przy wypadkach?\n",
        "\n",
        "---\n"
      ],
      "metadata": {
        "id": "yaZ-ShEVdEYs"
      }
    },
    {
      "cell_type": "code",
      "source": [
        "subset_weather = inDF.filter(inDF[\"Weather_Condition\"].isNotNull())\n"
      ],
      "metadata": {
        "id": "hYmR0D09ESNJ"
      },
      "execution_count": 27,
      "outputs": []
    },
    {
      "cell_type": "code",
      "source": [
        "subset_weather.cache()\n",
        "\n",
        "start = datetime.now()\n",
        "\n",
        "subset_weather.groupBy(\"Weather_Condition\").count().orderBy(\"count\", ascending=False).limit(3).show()\n",
        "\n",
        "print(datetime.now() - start)"
      ],
      "metadata": {
        "id": "8UGoeV1mdWZV",
        "colab": {
          "base_uri": "https://localhost:8080/"
        },
        "outputId": "44d1f33e-1f6d-495d-941b-94920d9692f0"
      },
      "execution_count": 28,
      "outputs": [
        {
          "output_type": "stream",
          "name": "stdout",
          "text": [
            "+-----------------+-------+\n",
            "|Weather_Condition|  count|\n",
            "+-----------------+-------+\n",
            "|             Fair|2560802|\n",
            "|    Mostly Cloudy|1016195|\n",
            "|           Cloudy| 817082|\n",
            "+-----------------+-------+\n",
            "\n",
            "0:04:14.349550\n"
          ]
        }
      ]
    },
    {
      "cell_type": "markdown",
      "source": [
        "\n",
        "###  **Zadanie 2: Porównanie z i bez `cache()`**\n",
        "\n",
        "Cel: Sprawdź różnicę czasu wykonania tej samej analizy z i bez cache.\n",
        "\n",
        "\n",
        "Pytanie: Czy `cache()` przyspieszyło analizę? O ile?\n",
        "\n",
        "---\n"
      ],
      "metadata": {
        "id": "Rwmtp5trdmbE"
      }
    },
    {
      "cell_type": "code",
      "source": [
        "start = datetime.now()\n",
        "\n",
        "subset_weather.groupBy(\"Weather_Condition\").count().orderBy(\"count\", ascending=False).limit(3).show()\n",
        "\n",
        "print(datetime.now() - start)"
      ],
      "metadata": {
        "id": "aL7XbWpxdn5_",
        "colab": {
          "base_uri": "https://localhost:8080/"
        },
        "outputId": "ad6aee35-7773-477a-ddae-bd05015c8edf"
      },
      "execution_count": 29,
      "outputs": [
        {
          "output_type": "stream",
          "name": "stdout",
          "text": [
            "+-----------------+-------+\n",
            "|Weather_Condition|  count|\n",
            "+-----------------+-------+\n",
            "|             Fair|2560802|\n",
            "|    Mostly Cloudy|1016195|\n",
            "|           Cloudy| 817082|\n",
            "+-----------------+-------+\n",
            "\n",
            "0:00:01.876145\n"
          ]
        }
      ]
    },
    {
      "cell_type": "markdown",
      "source": [
        "\n",
        "\n",
        "###  **Zadanie 3: Cache i analiza skumulowana (window function)**\n",
        "\n",
        "Cel: Oblicz skumulowaną liczbę wypadków w danym stanie (cache uprzednio przefiltrowane dane).\n",
        "\n",
        "\n",
        "Pytanie: Które 3 stany mają największą skumulowaną liczbę wypadków?\n",
        "\n",
        "---"
      ],
      "metadata": {
        "id": "RXMp_gcddo1Y"
      }
    },
    {
      "cell_type": "code",
      "source": [
        "start = datetime.now()\n",
        "subset_weather.groupBy(\"State\").count().orderBy(\"count\", ascending=False).limit(3).show()\n",
        "print(datetime.now() - start)"
      ],
      "metadata": {
        "id": "yHUX5CqrdoR7",
        "colab": {
          "base_uri": "https://localhost:8080/"
        },
        "outputId": "53ff5f99-24a8-49d6-d975-6ea6209f5678"
      },
      "execution_count": 30,
      "outputs": [
        {
          "output_type": "stream",
          "name": "stdout",
          "text": [
            "+-----+-------+\n",
            "|State|  count|\n",
            "+-----+-------+\n",
            "|   CA|1701655|\n",
            "|   FL| 870292|\n",
            "|   TX| 573638|\n",
            "+-----+-------+\n",
            "\n",
            "0:00:01.880758\n"
          ]
        }
      ]
    },
    {
      "cell_type": "markdown",
      "source": [
        "\n",
        "\n",
        "###  **Zadanie 4: `persist()` jako alternatywa dla `cache()`**\n",
        "\n",
        "Cel: Zamiast `cache()` użyj `persist(StorageLevel.DISK_ONLY)` i porównaj wydajność.\n",
        "\n",
        "\n",
        "\n",
        "---"
      ],
      "metadata": {
        "id": "ZICZuIqldp1L"
      }
    },
    {
      "cell_type": "code",
      "source": [
        "subset_weather.persist(StorageLevel.DISK_ONLY)\n",
        "\n",
        "start = datetime.now()\n",
        "subset_weather.groupBy(\"State\").count().orderBy(\"count\", ascending=False).limit(3).show()\n",
        "print(datetime.now() - start)"
      ],
      "metadata": {
        "id": "XI426Dcydqno",
        "colab": {
          "base_uri": "https://localhost:8080/"
        },
        "outputId": "096307a1-039f-4cda-df2c-e54586ec21f3"
      },
      "execution_count": 31,
      "outputs": [
        {
          "output_type": "stream",
          "name": "stdout",
          "text": [
            "+-----+-------+\n",
            "|State|  count|\n",
            "+-----+-------+\n",
            "|   CA|1701655|\n",
            "|   FL| 870292|\n",
            "|   TX| 573638|\n",
            "+-----+-------+\n",
            "\n",
            "0:00:01.621200\n"
          ]
        }
      ]
    },
    {
      "cell_type": "markdown",
      "source": [
        "\n",
        "> Jeśli pracujesz w PySparku, pamiętaj najpierw o rejestracji DataFrame jako tabeli SQL:\n",
        "\n",
        "```python\n",
        "df.createOrReplaceTempView(\"accidents\")\n",
        "```\n",
        "\n",
        "---\n",
        "\n",
        "\n",
        "### **Zadanie 5 – Top miasta z największą liczbą wypadków**\n",
        "\n",
        "**Cel:** Znajdź 10 miast z największą liczbą wypadków.\n"
      ],
      "metadata": {
        "id": "9TfVRGIOd8OL"
      }
    },
    {
      "cell_type": "code",
      "source": [
        "query = \"\"\"\n",
        "SELECT City, COUNT(*) AS total_accidents\n",
        "FROM accidents\n",
        "GROUP BY City\n",
        "ORDER BY total_accidents DESC\n",
        "LIMIT 10\n",
        "\"\"\"\n",
        "\n",
        "spark.sql(query).show()"
      ],
      "metadata": {
        "id": "kBABmzUMd7lh",
        "colab": {
          "base_uri": "https://localhost:8080/"
        },
        "outputId": "bb893925-d9d0-4f84-a294-c00c68a1e252"
      },
      "execution_count": 8,
      "outputs": [
        {
          "output_type": "stream",
          "name": "stdout",
          "text": [
            "+-----------+---------------+\n",
            "|       City|total_accidents|\n",
            "+-----------+---------------+\n",
            "|      Miami|         186917|\n",
            "|    Houston|         169609|\n",
            "|Los Angeles|         156491|\n",
            "|  Charlotte|         138652|\n",
            "|     Dallas|         130939|\n",
            "|    Orlando|         109733|\n",
            "|     Austin|          97359|\n",
            "|    Raleigh|          86079|\n",
            "|  Nashville|          72930|\n",
            "|Baton Rouge|          71588|\n",
            "+-----------+---------------+\n",
            "\n"
          ]
        }
      ]
    },
    {
      "cell_type": "markdown",
      "source": [
        "\n",
        "---\n",
        "\n",
        "### **Zadanie 6 – Najczęstsze warunki pogodowe**\n",
        "\n",
        "**Cel:** Wypisz 5 najczęstszych warunków pogodowych podczas wypadków.\n",
        "\n",
        "---"
      ],
      "metadata": {
        "id": "0ww-JGVhm1BT"
      }
    },
    {
      "cell_type": "code",
      "source": [
        "query = \"\"\"\n",
        "SELECT Weather_Condition, COUNT(*) AS total_accidents\n",
        "FROM accidents\n",
        "GROUP BY Weather_Condition\n",
        "ORDER BY total_accidents DESC\n",
        "LIMIT 5\n",
        "\"\"\"\n",
        "\n",
        "spark.sql(query).show()"
      ],
      "metadata": {
        "id": "Bw9MpqASm2FL",
        "colab": {
          "base_uri": "https://localhost:8080/"
        },
        "outputId": "d15d8c1d-f431-4713-8ffa-42d810358039"
      },
      "execution_count": 10,
      "outputs": [
        {
          "output_type": "stream",
          "name": "stdout",
          "text": [
            "+-----------------+---------------+\n",
            "|Weather_Condition|total_accidents|\n",
            "+-----------------+---------------+\n",
            "|             Fair|        2560802|\n",
            "|    Mostly Cloudy|        1016195|\n",
            "|           Cloudy|         817082|\n",
            "|            Clear|         808743|\n",
            "|    Partly Cloudy|         698972|\n",
            "+-----------------+---------------+\n",
            "\n"
          ]
        }
      ]
    },
    {
      "cell_type": "markdown",
      "source": [
        "\n",
        "\n",
        "### **Zadanie 7 – Analiza godzinowa**\n",
        "\n",
        "**Cel:** Wyciągnij godzinę z kolumny `Start_Time` i podlicz liczbę wypadków dla każdej godziny.\n",
        "\n",
        "\n",
        "---"
      ],
      "metadata": {
        "id": "dqjJKZb6m2fx"
      }
    },
    {
      "cell_type": "code",
      "source": [
        "query = \"\"\"\n",
        "SELECT HOUR(Start_Time) AS start_hour, COUNT(*) AS total_accidents\n",
        "FROM accidents\n",
        "GROUP BY start_hour\n",
        "ORDER BY total_accidents DESC\n",
        "\"\"\"\n",
        "\n",
        "spark.sql(query).show(24)"
      ],
      "metadata": {
        "id": "ckumFUnPm3NP",
        "colab": {
          "base_uri": "https://localhost:8080/"
        },
        "outputId": "dba1e4da-5302-4083-82a9-a087d52e582a"
      },
      "execution_count": 15,
      "outputs": [
        {
          "output_type": "stream",
          "name": "stdout",
          "text": [
            "+----------+---------------+\n",
            "|start_hour|total_accidents|\n",
            "+----------+---------------+\n",
            "|         7|         587472|\n",
            "|        16|         581969|\n",
            "|         8|         577576|\n",
            "|        17|         576015|\n",
            "|        15|         525855|\n",
            "|        14|         448846|\n",
            "|        18|         432042|\n",
            "|         6|         405837|\n",
            "|        13|         396445|\n",
            "|         9|         363034|\n",
            "|        11|         355040|\n",
            "|        12|         355001|\n",
            "|        10|         342706|\n",
            "|        19|         295121|\n",
            "|         5|         228182|\n",
            "|        20|         225226|\n",
            "|        21|         191452|\n",
            "|        22|         167645|\n",
            "|         4|         159852|\n",
            "|        23|         126539|\n",
            "|         0|         112378|\n",
            "|         1|          97071|\n",
            "|         2|          93227|\n",
            "|         3|          83863|\n",
            "+----------+---------------+\n",
            "\n"
          ]
        }
      ]
    },
    {
      "cell_type": "markdown",
      "source": [
        "\n",
        "\n",
        "### **Zadanie 8 – Dzień vs. Noc**\n",
        "\n",
        "**Cel:** Policz liczbę wypadków, które wydarzyły się w ciągu dnia i nocy (`Sunrise_Sunset`).\n",
        "\n",
        "---\n",
        "\n"
      ],
      "metadata": {
        "id": "yR2KMhuum3lA"
      }
    },
    {
      "cell_type": "code",
      "source": [
        "query = \"\"\"\n",
        "SELECT DISTINCT Sunrise_Sunset\n",
        "FROM accidents\n",
        "\"\"\"\n",
        "\n",
        "spark.sql(query).show()"
      ],
      "metadata": {
        "colab": {
          "base_uri": "https://localhost:8080/"
        },
        "id": "18WIk9VV2ph0",
        "outputId": "9b8c7d64-d4e6-469e-b191-e26468f7188a"
      },
      "execution_count": 12,
      "outputs": [
        {
          "output_type": "stream",
          "name": "stdout",
          "text": [
            "+--------------+\n",
            "|Sunrise_Sunset|\n",
            "+--------------+\n",
            "|         Night|\n",
            "|           Day|\n",
            "|          NULL|\n",
            "+--------------+\n",
            "\n"
          ]
        }
      ]
    },
    {
      "cell_type": "code",
      "source": [
        "query = \"\"\"\n",
        "SELECT Sunrise_Sunset, COUNT(*) AS total_accidents\n",
        "FROM accidents\n",
        "WHERE Sunrise_Sunset IS NOT NULL\n",
        "GROUP BY Sunrise_Sunset\n",
        "\"\"\"\n",
        "\n",
        "spark.sql(query).show()"
      ],
      "metadata": {
        "id": "hWMFVP1Um4UK",
        "colab": {
          "base_uri": "https://localhost:8080/"
        },
        "outputId": "d17bbc7d-c44a-4583-a365-a06c4eb17697"
      },
      "execution_count": 14,
      "outputs": [
        {
          "output_type": "stream",
          "name": "stdout",
          "text": [
            "+--------------+---------------+\n",
            "|Sunrise_Sunset|total_accidents|\n",
            "+--------------+---------------+\n",
            "|         Night|        2370595|\n",
            "|           Day|        5334553|\n",
            "+--------------+---------------+\n",
            "\n"
          ]
        }
      ]
    },
    {
      "cell_type": "markdown",
      "source": [
        "\n",
        "\n",
        "### **Zadanie 9 – Filtrowanie poważnych wypadków przy złej pogodzie**\n",
        "\n",
        "**Cel:** Wybierz tylko wypadki o powadze ≥ 4 i złych warunkach pogodowych.\n",
        "\n",
        "---\n"
      ],
      "metadata": {
        "id": "gem4rCNum5KU"
      }
    },
    {
      "cell_type": "code",
      "source": [
        "query = \"\"\"\n",
        "SELECT DISTINCT Weather_Condition\n",
        "FROM accidents\n",
        "\"\"\"\n",
        "\n",
        "spark.sql(query).show(50)"
      ],
      "metadata": {
        "colab": {
          "base_uri": "https://localhost:8080/"
        },
        "id": "_SrzZYdx30kl",
        "outputId": "60135490-6a61-4c43-c3d2-e794dbeb19c2"
      },
      "execution_count": 17,
      "outputs": [
        {
          "output_type": "stream",
          "name": "stdout",
          "text": [
            "+--------------------+\n",
            "|   Weather_Condition|\n",
            "+--------------------+\n",
            "|         Ice Pellets|\n",
            "|         Shallow Fog|\n",
            "|        Thunderstorm|\n",
            "|        Volcanic Ash|\n",
            "|   N/A Precipitation|\n",
            "|Showers in the Vi...|\n",
            "|              Cloudy|\n",
            "| Light Freezing Rain|\n",
            "|        Blowing Snow|\n",
            "|  Heavy Rain / Windy|\n",
            "|   Low Drifting Snow|\n",
            "|Heavy Thunderstor...|\n",
            "|     Widespread Dust|\n",
            "|         Snow Grains|\n",
            "|Light Rain with T...|\n",
            "|             Squalls|\n",
            "|    Scattered Clouds|\n",
            "|       Heavy T-Storm|\n",
            "|      Patches of Fog|\n",
            "|        Rain Showers|\n",
            "|Thunderstorms and...|\n",
            "|             Drizzle|\n",
            "|      Cloudy / Windy|\n",
            "|             T-Storm|\n",
            "|        Snow Showers|\n",
            "|                 Fog|\n",
            "|       Partly Cloudy|\n",
            "|               Clear|\n",
            "|  Light Freezing Fog|\n",
            "|                Fair|\n",
            "|       Heavy Drizzle|\n",
            "|Heavy Thunderstor...|\n",
            "|       Mostly Cloudy|\n",
            "|        Funnel Cloud|\n",
            "|               Smoke|\n",
            "|   Light Ice Pellets|\n",
            "|Light Freezing Dr...|\n",
            "|          Light Haze|\n",
            "|Heavy T-Storm / W...|\n",
            "|          Heavy Rain|\n",
            "|                Sand|\n",
            "|  Light Rain Showers|\n",
            "|        Rain / Windy|\n",
            "|             Thunder|\n",
            "|           Light Fog|\n",
            "|          Light Rain|\n",
            "|        Blowing Sand|\n",
            "|                Mist|\n",
            "|Light Thunderstor...|\n",
            "|                Hail|\n",
            "+--------------------+\n",
            "only showing top 50 rows\n",
            "\n"
          ]
        }
      ]
    },
    {
      "cell_type": "code",
      "source": [
        "query = \"\"\"\n",
        "SELECT ID, Severity, Weather_Condition\n",
        "FROM accidents\n",
        "WHERE\n",
        "  Severity >= 4\n",
        "  AND Weather_Condition RLIKE '(?i)(rain|snow|fog|ice|storm|hail)'\n",
        "\"\"\"\n",
        "\n",
        "spark.sql(query).show()"
      ],
      "metadata": {
        "id": "tAO8JCbLm4qH",
        "colab": {
          "base_uri": "https://localhost:8080/"
        },
        "outputId": "785be768-fe44-4f81-8f76-05c5551c36bc"
      },
      "execution_count": 43,
      "outputs": [
        {
          "output_type": "stream",
          "name": "stdout",
          "text": [
            "+--------+--------+--------------------+\n",
            "|      ID|Severity|   Weather_Condition|\n",
            "+--------+--------+--------------------+\n",
            "| A-33932|       4|          Light Rain|\n",
            "| A-58392|       4|                Rain|\n",
            "|A-135771|       4|Heavy Thunderstor...|\n",
            "|A-140391|       4|          Light Rain|\n",
            "|A-141009|       4|          Light Rain|\n",
            "|A-142111|       4|        Thunderstorm|\n",
            "|A-142114|       4|        Thunderstorm|\n",
            "|A-145061|       4|Light Thunderstor...|\n",
            "|A-145062|       4|Light Thunderstor...|\n",
            "|A-187900|       4|                Rain|\n",
            "|A-192709|       4|          Light Rain|\n",
            "|A-194270|       4|          Light Rain|\n",
            "|A-216275|       4|          Light Rain|\n",
            "|A-237861|       4|          Light Rain|\n",
            "|A-271300|       4|          Light Rain|\n",
            "|A-289564|       4|          Heavy Rain|\n",
            "|A-307817|       4|  Light Freezing Fog|\n",
            "|A-308661|       4|          Light Rain|\n",
            "|A-328013|       4|                Snow|\n",
            "|A-361338|       4|          Light Rain|\n",
            "+--------+--------+--------------------+\n",
            "only showing top 20 rows\n",
            "\n"
          ]
        }
      ]
    },
    {
      "cell_type": "markdown",
      "source": [
        "\n",
        "### **Zadanie 10 – Kierunki wiatru**\n",
        "\n",
        "**Cel:** Znajdź najczęściej występujące kierunki wiatru podczas wypadków.\n",
        "\n",
        "---"
      ],
      "metadata": {
        "id": "Naw4SSRBm6HY"
      }
    },
    {
      "cell_type": "code",
      "source": [
        "query = \"\"\"\n",
        "SELECT Wind_Direction, COUNT(*) AS total_accidents\n",
        "FROM accidents\n",
        "GROUP BY Wind_Direction\n",
        "ORDER BY total_accidents DESC\n",
        "\"\"\"\n",
        "\n",
        "spark.sql(query).show()"
      ],
      "metadata": {
        "id": "OAHj37LKm6xR",
        "colab": {
          "base_uri": "https://localhost:8080/"
        },
        "outputId": "5984923a-43a5-4663-95b3-96ae027448fa"
      },
      "execution_count": 20,
      "outputs": [
        {
          "output_type": "stream",
          "name": "stdout",
          "text": [
            "+--------------+---------------+\n",
            "|Wind_Direction|total_accidents|\n",
            "+--------------+---------------+\n",
            "|          CALM|         961624|\n",
            "|             S|         419989|\n",
            "|           SSW|         384840|\n",
            "|             W|         383913|\n",
            "|           WNW|         378781|\n",
            "|            NW|         369352|\n",
            "|          Calm|         368557|\n",
            "|            SW|         364470|\n",
            "|           WSW|         353806|\n",
            "|           SSE|         349110|\n",
            "|           NNW|         333427|\n",
            "|             N|         307151|\n",
            "|            SE|         294901|\n",
            "|             E|         278914|\n",
            "|           ESE|         268311|\n",
            "|            NE|         258639|\n",
            "|           ENE|         258474|\n",
            "|           NNE|         255311|\n",
            "|           VAR|         250566|\n",
            "|         South|         177375|\n",
            "+--------------+---------------+\n",
            "only showing top 20 rows\n",
            "\n"
          ]
        }
      ]
    },
    {
      "cell_type": "code",
      "source": [],
      "metadata": {
        "id": "0pcCxZngmvgJ"
      },
      "execution_count": null,
      "outputs": []
    },
    {
      "cell_type": "markdown",
      "source": [
        "\n",
        "---\n",
        "\n",
        "## Zadanie 11 `groupBy` + `agg`\n",
        "\n",
        "**Zadanie:**\n",
        "Policz średnią widoczność (`Visibility(mi)`) i średnią temperaturę (`Temperature(F)`) dla każdego stanu (`State`). Posortuj wyniki malejąco po średniej temperaturze.\n"
      ],
      "metadata": {
        "id": "L0SZDWa0mvy1"
      }
    },
    {
      "cell_type": "code",
      "source": [
        "query = \"\"\"\n",
        "SELECT State, ROUND(AVG(`Visibility(mi)`), 2) AS avg_visibility, ROUND(AVG(`Temperature(F)`), 2) AS avg_temperature\n",
        "FROM accidents\n",
        "GROUP BY State\n",
        "ORDER BY avg_temperature DESC\n",
        "\"\"\"\n",
        "\n",
        "spark.sql(query).show()"
      ],
      "metadata": {
        "id": "MlJf8eMTm3GR",
        "colab": {
          "base_uri": "https://localhost:8080/"
        },
        "outputId": "0cb4e537-5650-451d-ad49-6125bf34f375"
      },
      "execution_count": 41,
      "outputs": [
        {
          "output_type": "stream",
          "name": "stdout",
          "text": [
            "+-----+--------------+---------------+\n",
            "|State|avg_visibility|avg_temperature|\n",
            "+-----+--------------+---------------+\n",
            "|   FL|          9.51|          75.37|\n",
            "|   AZ|         10.21|          72.65|\n",
            "|   LA|          9.16|          70.03|\n",
            "|   TX|          9.25|          69.87|\n",
            "|   AL|          9.09|          66.49|\n",
            "|   MS|          8.99|          66.13|\n",
            "|   SC|          9.08|          64.53|\n",
            "|   GA|          8.98|          64.29|\n",
            "|   CA|          9.09|           63.9|\n",
            "|   OK|           9.4|           63.8|\n",
            "|   NC|          9.11|          62.85|\n",
            "|   TN|          9.11|          62.39|\n",
            "|   AR|          8.83|          59.85|\n",
            "|   DC|          9.47|          59.38|\n",
            "|   VA|          9.13|          59.24|\n",
            "|   DE|          9.16|          58.94|\n",
            "|   KY|          8.81|          58.72|\n",
            "|   NM|          9.69|          58.08|\n",
            "|   NJ|           8.9|          57.25|\n",
            "|   MD|          8.87|          56.73|\n",
            "+-----+--------------+---------------+\n",
            "only showing top 20 rows\n",
            "\n"
          ]
        }
      ]
    },
    {
      "cell_type": "markdown",
      "source": [
        "\n",
        "---\n",
        "\n",
        "## Zadanie 12 `orderBy`\n",
        "\n",
        "**Zadanie:**\n",
        "Znajdź 5 wypadków o najdłuższym czasie trwania (`End_Time - Start_Time`). Wyświetl ich `ID`, `City`, `State` i czas trwania w minutach.\n",
        "\n",
        "---"
      ],
      "metadata": {
        "id": "bpSx35OMm4F3"
      }
    },
    {
      "cell_type": "code",
      "source": [
        "query = \"\"\"\n",
        "SELECT ID, Start_Time, End_Time, City, State, TIMESTAMPDIFF(MINUTE, Start_Time, End_Time) AS duration\n",
        "FROM accidents\n",
        "ORDER BY duration DESC\n",
        "LIMIT 5\n",
        "\"\"\"\n",
        "\n",
        "spark.sql(query).show()"
      ],
      "metadata": {
        "id": "bs63kciMm3tH",
        "colab": {
          "base_uri": "https://localhost:8080/"
        },
        "outputId": "a083e9bf-9c1f-436e-b2bc-13ab48f07263"
      },
      "execution_count": 34,
      "outputs": [
        {
          "output_type": "stream",
          "name": "stdout",
          "text": [
            "+---------+-------------------+-------------------+-----------+-----+--------+\n",
            "|       ID|         Start_Time|           End_Time|       City|State|duration|\n",
            "+---------+-------------------+-------------------+-----------+-----+--------+\n",
            "|A-4810425|2016-10-21 07:26:00|2022-02-25 17:45:00| Wilmington|   DE| 2812939|\n",
            "|A-5053641|2016-10-21 07:26:00|2022-02-25 17:45:00| Wilmington|   DE| 2812939|\n",
            "|A-5399002|2018-04-19 09:24:00|2022-07-20 10:49:45|Southampton|   NY| 2236405|\n",
            "|A-4014778|2018-04-19 09:24:00|2022-07-20 09:59:32|Southampton|   NY| 2236355|\n",
            "|A-5073315|2018-04-19 09:24:00|2022-07-20 09:59:32|Southampton|   NY| 2236355|\n",
            "+---------+-------------------+-------------------+-----------+-----+--------+\n",
            "\n"
          ]
        }
      ]
    },
    {
      "cell_type": "markdown",
      "source": [
        "\n",
        "\n",
        "## Zadanie 13 `to_timestamp` i różnice czasowe\n",
        "\n",
        "**Zadanie:**\n",
        "Oblicz średnią długość wypadków (w minutach) w dzień (`Sunrise_Sunset = 'Day'`) i w nocy (`Sunrise_Sunset = 'Night'`).\n",
        "\n",
        "---"
      ],
      "metadata": {
        "id": "iWorZ3rem5-M"
      }
    },
    {
      "cell_type": "code",
      "source": [
        "query = \"\"\"\n",
        "SELECT Sunrise_Sunset, ROUND(AVG(TIMESTAMPDIFF(MINUTE, Start_Time, End_Time)), 2) AS avg_duration\n",
        "FROM accidents\n",
        "WHERE Sunrise_Sunset IS NOT NULL\n",
        "GROUP BY Sunrise_Sunset\n",
        "ORDER BY avg_duration DESC\n",
        "\"\"\"\n",
        "\n",
        "spark.sql(query).show()"
      ],
      "metadata": {
        "id": "OOCU-qkxm64f",
        "colab": {
          "base_uri": "https://localhost:8080/"
        },
        "outputId": "98c80f6e-174b-4cb2-98a6-760c06fedc4d"
      },
      "execution_count": 42,
      "outputs": [
        {
          "output_type": "stream",
          "name": "stdout",
          "text": [
            "+--------------+------------+\n",
            "|Sunrise_Sunset|avg_duration|\n",
            "+--------------+------------+\n",
            "|         Night|       561.7|\n",
            "|           Day|      379.29|\n",
            "+--------------+------------+\n",
            "\n"
          ]
        }
      ]
    },
    {
      "cell_type": "markdown",
      "source": [
        "\n",
        "\n",
        "## Zadanie 14 `filter` + `isin`\n",
        "\n",
        "**Zadanie:**\n",
        "Znajdź wszystkie wypadki, które wydarzyły się w stanie **California (CA)** lub **Texas (TX)** **w złych warunkach pogodowych** (`Weather_Condition IN ('Rain', 'Snow', 'Fog')`).\n",
        "\n",
        "---"
      ],
      "metadata": {
        "id": "dI19qOcLm7XS"
      }
    },
    {
      "cell_type": "code",
      "source": [
        "query = \"\"\"\n",
        "SELECT ID, State, Weather_Condition\n",
        "FROM accidents\n",
        "WHERE State IN ('CA', 'TX')\n",
        "  AND Weather_Condition IN ('Rain', 'Snow', 'Fog')\n",
        "\"\"\"\n",
        "\n",
        "spark.sql(query).show()"
      ],
      "metadata": {
        "id": "D3k03E9Om8K7",
        "colab": {
          "base_uri": "https://localhost:8080/"
        },
        "outputId": "96f3d3fd-0eca-4867-8b20-60566fab9725"
      },
      "execution_count": 36,
      "outputs": [
        {
          "output_type": "stream",
          "name": "stdout",
          "text": [
            "+------+-----+-----------------+\n",
            "|    ID|State|Weather_Condition|\n",
            "+------+-----+-----------------+\n",
            "|A-4382|   CA|              Fog|\n",
            "|A-5598|   CA|              Fog|\n",
            "|A-5608|   CA|              Fog|\n",
            "|A-5610|   CA|              Fog|\n",
            "|A-5795|   CA|              Fog|\n",
            "|A-5806|   CA|              Fog|\n",
            "|A-5812|   CA|              Fog|\n",
            "|A-6065|   CA|             Rain|\n",
            "|A-6070|   CA|             Rain|\n",
            "|A-6088|   CA|             Rain|\n",
            "|A-6102|   CA|             Rain|\n",
            "|A-6105|   CA|             Rain|\n",
            "|A-6111|   CA|             Rain|\n",
            "|A-6115|   CA|             Rain|\n",
            "|A-6131|   CA|             Rain|\n",
            "|A-6132|   CA|             Rain|\n",
            "|A-6133|   CA|             Rain|\n",
            "|A-6136|   CA|             Rain|\n",
            "|A-6142|   CA|             Rain|\n",
            "|A-6147|   CA|             Rain|\n",
            "+------+-----+-----------------+\n",
            "only showing top 20 rows\n",
            "\n"
          ]
        }
      ]
    },
    {
      "cell_type": "markdown",
      "source": [
        "\n",
        "\n",
        "## Zadanie 15 `withColumn`\n",
        "\n",
        "**Zadanie:**\n",
        "Dodaj nową kolumnę `is_long`, która przyjmuje wartość:\n",
        "\n",
        "* `1` jeśli wypadek trwał dłużej niż 60 minut,\n",
        "* `0` w przeciwnym razie.\n",
        "\n",
        "---\n"
      ],
      "metadata": {
        "id": "jNL6dW6cm8dI"
      }
    },
    {
      "cell_type": "code",
      "source": [
        "query = \"\"\"\n",
        "SELECT\n",
        "  ID,\n",
        "  Start_Time,\n",
        "  End_Time,\n",
        "  CASE\n",
        "    WHEN TIMESTAMPDIFF(MINUTE, Start_Time, End_Time) > 60 THEN 1\n",
        "    ELSE 0\n",
        "  END AS is_long\n",
        "FROM accidents\n",
        "\"\"\"\n",
        "\n",
        "spark.sql(query).show()"
      ],
      "metadata": {
        "id": "JJlT2Tytm9DG",
        "colab": {
          "base_uri": "https://localhost:8080/"
        },
        "outputId": "7686807d-3204-44f3-e54b-3427f08822cd"
      },
      "execution_count": 38,
      "outputs": [
        {
          "output_type": "stream",
          "name": "stdout",
          "text": [
            "+----+-------------------+-------------------+-------+\n",
            "|  ID|         Start_Time|           End_Time|is_long|\n",
            "+----+-------------------+-------------------+-------+\n",
            "| A-1|2016-02-08 05:46:00|2016-02-08 11:00:00|      1|\n",
            "| A-2|2016-02-08 06:07:59|2016-02-08 06:37:59|      0|\n",
            "| A-3|2016-02-08 06:49:27|2016-02-08 07:19:27|      0|\n",
            "| A-4|2016-02-08 07:23:34|2016-02-08 07:53:34|      0|\n",
            "| A-5|2016-02-08 07:39:07|2016-02-08 08:09:07|      0|\n",
            "| A-6|2016-02-08 07:44:26|2016-02-08 08:14:26|      0|\n",
            "| A-7|2016-02-08 07:59:35|2016-02-08 08:29:35|      0|\n",
            "| A-8|2016-02-08 07:59:58|2016-02-08 08:29:58|      0|\n",
            "| A-9|2016-02-08 08:00:40|2016-02-08 08:30:40|      0|\n",
            "|A-10|2016-02-08 08:10:04|2016-02-08 08:40:04|      0|\n",
            "|A-11|2016-02-08 08:14:42|2016-02-08 08:44:42|      0|\n",
            "|A-12|2016-02-08 08:21:27|2016-02-08 08:51:27|      0|\n",
            "|A-13|2016-02-08 08:36:34|2016-02-08 09:06:34|      0|\n",
            "|A-14|2016-02-08 08:37:07|2016-02-08 09:07:07|      0|\n",
            "|A-15|2016-02-08 08:39:43|2016-02-08 09:09:43|      0|\n",
            "|A-16|2016-02-08 08:43:20|2016-02-08 09:13:20|      0|\n",
            "|A-17|2016-02-08 08:53:17|2016-02-08 09:23:17|      0|\n",
            "|A-18|2016-02-08 09:24:37|2016-02-08 09:54:37|      0|\n",
            "|A-19|2016-02-08 09:25:17|2016-02-08 09:55:17|      0|\n",
            "|A-20|2016-02-08 09:35:35|2016-02-08 10:05:35|      0|\n",
            "+----+-------------------+-------------------+-------+\n",
            "only showing top 20 rows\n",
            "\n"
          ]
        }
      ]
    },
    {
      "cell_type": "markdown",
      "source": [
        "\n",
        "## Zadanie 16 `count`\n",
        "\n",
        "**Zadanie:**\n",
        "Policz liczbę różnych miast (`DISTINCT City`) w każdym stanie (`State`). Posortuj wyniki malejąco po liczbie unikalnych miast.\n",
        "\n",
        "---"
      ],
      "metadata": {
        "id": "Ks8nEYURm9YW"
      }
    },
    {
      "cell_type": "code",
      "source": [
        "query = \"\"\"\n",
        "SELECT State, COUNT(DISTINCT City) distinct_cities\n",
        "FROM accidents\n",
        "GROUP BY State\n",
        "ORDER BY distinct_cities DESC\n",
        "\"\"\"\n",
        "\n",
        "spark.sql(query).show()"
      ],
      "metadata": {
        "id": "eHC5Pfezm-Eu",
        "colab": {
          "base_uri": "https://localhost:8080/"
        },
        "outputId": "3f9f4400-2ebe-4a23-bc38-aeaac1cdf8f9"
      },
      "execution_count": 40,
      "outputs": [
        {
          "output_type": "stream",
          "name": "stdout",
          "text": [
            "+-----+---------------+\n",
            "|State|distinct_cities|\n",
            "+-----+---------------+\n",
            "|   PA|           1422|\n",
            "|   CA|           1268|\n",
            "|   NY|           1215|\n",
            "|   TX|            883|\n",
            "|   IL|            785|\n",
            "|   OH|            780|\n",
            "|   VA|            660|\n",
            "|   MN|            656|\n",
            "|   NC|            612|\n",
            "|   MI|            590|\n",
            "|   FL|            586|\n",
            "|   IA|            559|\n",
            "|   NJ|            558|\n",
            "|   GA|            525|\n",
            "|   WI|            520|\n",
            "|   IN|            493|\n",
            "|   AL|            458|\n",
            "|   TN|            430|\n",
            "|   MO|            410|\n",
            "|   MA|            406|\n",
            "+-----+---------------+\n",
            "only showing top 20 rows\n",
            "\n"
          ]
        }
      ]
    }
  ]
}