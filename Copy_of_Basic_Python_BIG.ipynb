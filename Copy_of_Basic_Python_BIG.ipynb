{
  "nbformat": 4,
  "nbformat_minor": 0,
  "metadata": {
    "colab": {
      "provenance": [],
      "include_colab_link": true
    },
    "kernelspec": {
      "name": "python3",
      "display_name": "Python 3"
    },
    "language_info": {
      "name": "python"
    }
  },
  "cells": [
    {
      "cell_type": "markdown",
      "metadata": {
        "id": "view-in-github",
        "colab_type": "text"
      },
      "source": [
        "<a href=\"https://colab.research.google.com/github/urszkam/AoC_2022/blob/main/Copy_of_Basic_Python_BIG.ipynb\" target=\"_parent\"><img src=\"https://colab.research.google.com/assets/colab-badge.svg\" alt=\"Open In Colab\"/></a>"
      ]
    },
    {
      "cell_type": "markdown",
      "source": [
        "\n",
        "---\n",
        "\n",
        "### **Sekcja 1: Podstawy Pythona**\n",
        "1. **Proste operacje matematyczne:**\n",
        "   - Stwórz zmienne `x` i `y` o dowolnych wartościach liczbowych i oblicz:\n",
        "     - Sumę\n",
        "     - Różnicę\n",
        "     - Iloczyn\n",
        "     - Resztę z dzielenia całkowitego\n",
        "   - Wydrukuj wyniki.\n",
        "\n",
        "2. **Zarządzanie typami danych:**\n",
        "   - Zdefiniuj zmienne o typach `int`, `float`, `str` i `bool`. Wydrukuj ich wartości i typy za pomocą funkcji `type()`.\n",
        "\n"
      ],
      "metadata": {
        "id": "RhDrjMCdQKKw"
      }
    },
    {
      "cell_type": "code",
      "source": [
        "x, y = 1, 3\n",
        "print(x + y)\n",
        "print(x - y)\n",
        "print(x * y)\n",
        "print(x % y)\n",
        "\n",
        "a, b, c, d = 1, 1.1, 'a', True\n",
        "\n",
        "for val in a, b, c, d:\n",
        "  print(f\"{val}: {type(val)}\")"
      ],
      "metadata": {
        "id": "Rx8JHfN5QUSU",
        "colab": {
          "base_uri": "https://localhost:8080/"
        },
        "outputId": "ec4a9588-2eff-4017-affc-21c94052ba5e"
      },
      "execution_count": 4,
      "outputs": [
        {
          "output_type": "stream",
          "name": "stdout",
          "text": [
            "4\n",
            "-2\n",
            "3\n",
            "1\n",
            "1: <class 'int'>\n",
            "1.1: <class 'float'>\n",
            "a: <class 'str'>\n",
            "True: <class 'bool'>\n"
          ]
        }
      ]
    },
    {
      "cell_type": "markdown",
      "source": [
        "---\n",
        "\n",
        "### **Sekcja 2: Struktury danych**\n",
        "3. **Operacje na listach:**\n",
        "   - Stwórz listę ulubionych owoców i:\n",
        "     - Dodaj nowy owoc na koniec listy.\n",
        "     - Usuń dowolny owoc z listy.\n",
        "     - Wydrukuj długość listy.\n",
        "\n",
        "4. **Słowniki:**\n",
        "   - Stwórz słownik, w którym kluczami będą imiona, a wartościami wiek osób.\n",
        "   - Dodaj nowy wpis do słownika.\n",
        "   - Zmień wiek jednej osoby.\n",
        "   - Usuń jedną osobę ze słownika.\n",
        "   - Wydrukuj zawartość słownika.\n",
        "\n"
      ],
      "metadata": {
        "id": "NkMSCWlKQUvP"
      }
    },
    {
      "cell_type": "code",
      "source": [
        "fruits = ['apple', 'banana', 'cherry', 'plum']\n",
        "fruits.pop()\n",
        "len(fruits)"
      ],
      "metadata": {
        "id": "kaGuN6WCQdMM",
        "colab": {
          "base_uri": "https://localhost:8080/"
        },
        "outputId": "97606a54-4015-495a-98bf-e1d452a87710"
      },
      "execution_count": 5,
      "outputs": [
        {
          "output_type": "execute_result",
          "data": {
            "text/plain": [
              "3"
            ]
          },
          "metadata": {},
          "execution_count": 5
        }
      ]
    },
    {
      "cell_type": "code",
      "source": [
        "personal_data = {\n",
        "    'Ann': 17,\n",
        "    'Mark': 23,\n",
        "    'Ella': 11\n",
        "}\n",
        "personal_data['Kate'] = 31\n",
        "personal_data['Ella'] += 2\n",
        "personal_data.pop('Ann')\n",
        "personal_data"
      ],
      "metadata": {
        "colab": {
          "base_uri": "https://localhost:8080/"
        },
        "id": "K_Z4dQWj-DjH",
        "outputId": "82a18ba1-e4e3-4b0d-f40c-0aea209ae1f9"
      },
      "execution_count": 7,
      "outputs": [
        {
          "output_type": "execute_result",
          "data": {
            "text/plain": [
              "{'Mark': 23, 'Ella': 13, 'Kate': 31}"
            ]
          },
          "metadata": {},
          "execution_count": 7
        }
      ]
    },
    {
      "cell_type": "markdown",
      "source": [
        "---\n",
        "\n",
        "### **Sekcja 3: Pętle i instrukcje warunkowe**\n",
        "5. **Pętla `for`:**\n",
        "   - Napisz pętlę, która iteruje przez listę liczb od 1 do 10 i drukuje tylko liczby parzyste.\n",
        "\n",
        "6. **Pętla `while`:**\n",
        "   - Napisz pętlę, która drukuje liczby od 10 do 1.\n",
        "\n",
        "7. **Instrukcja `if-elif-else`:**\n",
        "   - Napisz program, który sprawdza, czy podana przez użytkownika liczba jest:\n",
        "     - Większa niż 10\n",
        "     - Równa 10\n",
        "     - Mniejsza niż 10\n",
        "\n"
      ],
      "metadata": {
        "id": "Dbs294WHQaBU"
      }
    },
    {
      "cell_type": "code",
      "source": [
        "for i in range(1,11):\n",
        "  print(i if i % 2 == 0 else '', end=' ')"
      ],
      "metadata": {
        "id": "bzimq_0OQfAg",
        "colab": {
          "base_uri": "https://localhost:8080/"
        },
        "outputId": "8c128a2e-bbaf-4e49-f046-4a0648f9c8ca"
      },
      "execution_count": 16,
      "outputs": [
        {
          "output_type": "stream",
          "name": "stdout",
          "text": [
            " 2  4  6  8  10 "
          ]
        }
      ]
    },
    {
      "cell_type": "code",
      "source": [
        "i = 10\n",
        "while i > 0:\n",
        "  print(i, end=' ')\n",
        "  i -= 1"
      ],
      "metadata": {
        "colab": {
          "base_uri": "https://localhost:8080/"
        },
        "id": "BVUhFvyU_jSS",
        "outputId": "a8bb0968-58b9-4119-e80e-ba96feda217f"
      },
      "execution_count": 11,
      "outputs": [
        {
          "output_type": "stream",
          "name": "stdout",
          "text": [
            "10 9 8 7 6 5 4 3 2 1 "
          ]
        }
      ]
    },
    {
      "cell_type": "code",
      "source": [
        "num = int(input('Enter number: '))\n",
        "print('>10' if num > 10 else '==10' if num == 10 else '<10')"
      ],
      "metadata": {
        "colab": {
          "base_uri": "https://localhost:8080/"
        },
        "id": "x1WHFx6tAK3y",
        "outputId": "b89cd9cd-1741-459b-bce7-38c31190d5c6"
      },
      "execution_count": 12,
      "outputs": [
        {
          "output_type": "stream",
          "name": "stdout",
          "text": [
            "Enter number: 5\n",
            "<10\n"
          ]
        }
      ]
    },
    {
      "cell_type": "markdown",
      "source": [
        "---\n",
        "\n",
        "### **Sekcja 4: Funkcje**\n",
        "8. **Tworzenie funkcji:**\n",
        "   - Napisz funkcję, która przyjmuje dwie liczby jako argumenty i zwraca ich średnią arytmetyczną.\n",
        "\n",
        "9. **Generator:**\n",
        "   - Napisz generator, który zwraca liczby od 1 do 5. Wydrukuj wartości za pomocą pętli `for`.\n",
        "\n",
        "---\n"
      ],
      "metadata": {
        "id": "_HD3Nk6dQfXQ"
      }
    },
    {
      "cell_type": "code",
      "source": [
        "def compute_mean(num1: float, num2: float) -> float:\n",
        "  return ((num1 + num2)/2)\n",
        "\n",
        "print(compute_mean(2.2, 0))"
      ],
      "metadata": {
        "id": "r7bhc8PDQihw",
        "colab": {
          "base_uri": "https://localhost:8080/"
        },
        "outputId": "992eb00a-6e90-4e35-b783-817b74b6c36d"
      },
      "execution_count": 13,
      "outputs": [
        {
          "output_type": "stream",
          "name": "stdout",
          "text": [
            "1.1\n"
          ]
        }
      ]
    },
    {
      "cell_type": "code",
      "source": [
        "gen = (i for i in range(1,6))\n",
        "\n",
        "for i in gen:\n",
        "  print(i, end=' ')"
      ],
      "metadata": {
        "colab": {
          "base_uri": "https://localhost:8080/"
        },
        "id": "6lBg_uSuBSLM",
        "outputId": "36c6a902-f962-40b7-9637-dcd9b1462ebc"
      },
      "execution_count": 17,
      "outputs": [
        {
          "output_type": "stream",
          "name": "stdout",
          "text": [
            "1 2 3 4 5 "
          ]
        }
      ]
    },
    {
      "cell_type": "markdown",
      "source": [
        "\n",
        "### **Sekcja 5: Funkcje `map`, `filter`, `reduce`**\n"
      ],
      "metadata": {
        "id": "g8-YQDUPQixV"
      }
    },
    {
      "cell_type": "markdown",
      "source": [
        "1. Rozważmy listę temperatur w stopniach Celsjusza. Użyj map, aby przekształcić je na Fahrenheita.\n",
        "Temperatury w Celsjusza:\n",
        "```python\n",
        "temperatures_celsius = [0, 10, 20, 30, 40]\n",
        "```\n",
        "2. Filtrowanie liczb parzystych (filter):\n",
        "Rozważmy listę liczb całkowitych. Użyj filter, aby wybrać tylko liczby parzyste.\n",
        "Lista liczb:\n",
        "python\n",
        "```python\n",
        "numbers = [1, 2, 3, 4, 5, 6, 7, 8, 9, 10]\n",
        "```\n",
        "\n",
        "3. Obliczanie iloczynu wszystkich liczb (reduce):\n",
        "Rozważmy listę liczb całkowitych. Użyj reduce, aby obliczyć iloczyn wszystkich elementów tej listy.\n",
        "Lista liczb:\n",
        "```python\n",
        "numbers = [1, 2, 3, 4, 5]\n",
        "```\n",
        "4. Podnoszenie liczb do kwadratu tylko dla liczb parzystych (map + filter):\n",
        "Rozważmy listę liczb całkowitych. Użyj filter, aby wybrać liczby parzyste, a następnie map, aby podnieść je do kwadratu.\n",
        "Lista liczb:\n",
        "\n",
        "```python\n",
        "numbers = [1, 2, 3, 4, 5, 6, 7, 8, 9, 10]\n",
        "```\n",
        "5. Suma liczb nieparzystych (filter + reduce):\n",
        "Rozważmy listę liczb całkowitych. Użyj filter, aby wybrać liczby nieparzyste, a następnie reduce, aby obliczyć ich sumę.\n",
        "Lista liczb:\n",
        "```python\n",
        "numbers = [1, 2, 3, 4, 5, 6, 7, 8, 9, 10]\n",
        "```"
      ],
      "metadata": {
        "id": "zCnytXMJGBXO"
      }
    },
    {
      "cell_type": "code",
      "source": [
        "temperatures_celsius = [0, 10, 20, 30, 40]\n",
        "temperature_F = list(map(lambda x: x*1.8 + 32, temperatures_celsius))\n",
        "\n",
        "temperature_F"
      ],
      "metadata": {
        "id": "TJ5AJmUJQJno",
        "colab": {
          "base_uri": "https://localhost:8080/"
        },
        "outputId": "1c427462-a15c-41ff-cee4-9cd2869e1b0c"
      },
      "execution_count": 23,
      "outputs": [
        {
          "output_type": "execute_result",
          "data": {
            "text/plain": [
              "[32.0, 50.0, 68.0, 86.0, 104.0]"
            ]
          },
          "metadata": {},
          "execution_count": 23
        }
      ]
    },
    {
      "cell_type": "code",
      "source": [
        "numbers = [1, 2, 3, 4, 5, 6, 7, 8, 9, 10]\n",
        "filtered_numbers = list(filter(lambda x: x % 2 == 0, numbers))\n",
        "\n",
        "filtered_numbers"
      ],
      "metadata": {
        "colab": {
          "base_uri": "https://localhost:8080/"
        },
        "id": "kvNET0lECMT_",
        "outputId": "9143095d-fbd5-4dce-c9e8-433a7db959cc"
      },
      "execution_count": 24,
      "outputs": [
        {
          "output_type": "execute_result",
          "data": {
            "text/plain": [
              "[2, 4, 6, 8, 10]"
            ]
          },
          "metadata": {},
          "execution_count": 24
        }
      ]
    },
    {
      "cell_type": "code",
      "source": [
        "from functools import reduce\n",
        "\n",
        "\n",
        "numbers = [1, 2, 3, 4, 5]\n",
        "reduced_number = reduce(lambda x, y: x * y, numbers)\n",
        "\n",
        "reduced_number"
      ],
      "metadata": {
        "colab": {
          "base_uri": "https://localhost:8080/"
        },
        "id": "dRaf2ccsDyWE",
        "outputId": "1ed72d96-3b2a-451b-f5a1-db684eb933b0"
      },
      "execution_count": 28,
      "outputs": [
        {
          "output_type": "execute_result",
          "data": {
            "text/plain": [
              "120"
            ]
          },
          "metadata": {},
          "execution_count": 28
        }
      ]
    },
    {
      "cell_type": "code",
      "source": [
        "numbers = [1, 2, 3, 4, 5, 6, 7, 8, 9, 10]\n",
        "squared_even = [x**2 for x in numbers if x % 2 == 0]\n",
        "\n",
        "squared_even"
      ],
      "metadata": {
        "colab": {
          "base_uri": "https://localhost:8080/"
        },
        "id": "4PGLLkx-EesB",
        "outputId": "a9e3f249-2418-4677-fe32-8287f4565dc2"
      },
      "execution_count": 31,
      "outputs": [
        {
          "output_type": "execute_result",
          "data": {
            "text/plain": [
              "[4, 16, 36, 64, 100]"
            ]
          },
          "metadata": {},
          "execution_count": 31
        }
      ]
    },
    {
      "cell_type": "code",
      "source": [
        "numbers = [1, 2, 3, 4, 5, 6, 7, 8, 9, 10]\n",
        "odd_sum = reduce(lambda acc, x: acc + x if x %2 != 0 else acc, numbers)\n",
        "\n",
        "odd_sum"
      ],
      "metadata": {
        "colab": {
          "base_uri": "https://localhost:8080/"
        },
        "id": "Y84Ixf7BE8p3",
        "outputId": "82d8c116-27ae-4369-df55-9b093f78d9e8"
      },
      "execution_count": 34,
      "outputs": [
        {
          "output_type": "execute_result",
          "data": {
            "text/plain": [
              "25"
            ]
          },
          "metadata": {},
          "execution_count": 34
        }
      ]
    },
    {
      "cell_type": "markdown",
      "source": [
        "### Zadanie: Tworzenie dekoratora mierzącego czas wywołania funkcji\n",
        "\n",
        "Cel zadania:\n",
        "* Stwórz dekorator measure_time, który mierzy czas wykonania funkcji i wyświetla wynik w sekundach.\n",
        "Instrukcje:\n",
        "- Użyj modułu time do pomiaru czasu.\n",
        "- Dekorator powinien być uniwersalny, tzn. działać dla funkcji z dowolną liczbą argumentów i zwracać wynik oryginalnej funkcji.\n",
        "\n",
        "Przykład użycia:\n",
        "* Napisz funkcję slow_function, która symuluje opóźnienie za pomocą time.sleep(n) i zwraca tekst „Funkcja zakończona”.\n",
        "* Użyj dekoratora measure_time do pomiaru czasu jej wykonania.\n"
      ],
      "metadata": {
        "id": "EArcN-Zl2GqQ"
      }
    },
    {
      "cell_type": "code",
      "source": [
        "import time\n",
        "from typing import Callable, Any\n",
        "from functools import wraps\n",
        "\n",
        "\n",
        "def measure_time(func: Callable) -> Callable:\n",
        "  @wraps(func)\n",
        "  def wrapper(*args: Any, **kwargs: Any) -> Any:\n",
        "    start = time.time()\n",
        "    res = func(*args, **kwargs)\n",
        "    measurement = start - time.time()\n",
        "    print(f\"Measured time: {measurement} s\")\n",
        "\n",
        "    return res\n",
        "\n",
        "  return wrapper"
      ],
      "metadata": {
        "id": "vlzC4NoRHCp7"
      },
      "execution_count": 43,
      "outputs": []
    },
    {
      "cell_type": "code",
      "source": [
        "@measure_time\n",
        "def slow_function(n: int) -> str:\n",
        "  time.sleep(n)\n",
        "\n",
        "  return 'Funkcja zakończona'\n",
        "\n",
        "print(slow_function(4))"
      ],
      "metadata": {
        "colab": {
          "base_uri": "https://localhost:8080/"
        },
        "id": "33p1RM90Pwky",
        "outputId": "28a85d10-d5d2-4c86-f940-65a81084d327"
      },
      "execution_count": 44,
      "outputs": [
        {
          "output_type": "stream",
          "name": "stdout",
          "text": [
            "Measured time: -4.000119686126709 s\n",
            "Funkcja zakończona\n"
          ]
        }
      ]
    }
  ]
}